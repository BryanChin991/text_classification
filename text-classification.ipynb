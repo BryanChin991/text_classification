{
 "cells": [
  {
   "cell_type": "markdown",
   "metadata": {},
   "source": [
    "# Introduction\n",
    "<a id=\"0\"></a>"
   ]
  },
  {
   "cell_type": "markdown",
   "metadata": {},
   "source": [
    "<p>Twitter has become an important communication channel in times of emergency.\n",
    "The ubiquitousness of smartphones enables people to announce an emergency they’re observing in real-time. Because of this, more agencies are interested in programatically monitoring Twitter (i.e. disaster relief organizations and news agencies).</p>\n",
    "\n",
    "<h3> Objective </h3>\n",
    "<p>To build a machine learning model that predicts which Tweets are about real disasters and which one’s aren’t. </p>\n",
    "\n",
    "<h3> Steps for word tokenization</h3> \n",
    "\n",
    "1. [Identify URL in the test and remove it](#1)\n",
    "2. [Remove all punctuation](#2)\n",
    "3. [Remove stop words (the, a, an, in, ...)](#3)\n",
    "4. [Count unique words (collections)](#4)\n",
    "5. [Splitting training and validation set](#5)\n",
    "6. [Create word index](#6)\n",
    "7. [Replacing text into series of number](#7)\n",
    "8. [Make every sentences/ text same length](#8)\n",
    "9. [Reversing keys values in word index dict, for decoding later](#9)\n",
    "\n",
    "<h3> Model training </h3> \n",
    "\n",
    "10. [Create LSTM model](#10)\n",
    "<h5>Long short-term memory (LSTM) is an artificial recurrent neural network (RNN) architecture used in the field of deep learning. LSTMs are famous in text and time series based problems because they are not only feedforward networks. They can retain past memory in their networks which is known as back propagation.</h5>\n",
    "<h6>LSTM can have multiple hidden layers and as it passes through every layer, the relevant information is kept and all the irrelevant information gets discarded in every single cell. </h6>\n",
    "<hr/>\n",
    "<img src='https://d2l.ai/_images/lstm-0.svg'/>\n",
    "<h5>LSTM has 3 main gates.</h5>\n",
    "<h6>1. FORGET Gate</h6>\n",
    "- This gate is responsible for deciding which information is kept for calculating the cell state and which is not relevant and can be discarded.\n",
    "<h6>2. INPUT Gate</h6>\n",
    "- Input Gate updates the cell state and decides which information is important and which is not. As forget gate helps to discard the information, the input gate helps to find out important information and store certain data in the memory that relevant.\n",
    "<h6>3. OUTPUT Gate</h6>\n",
    "-The last gate which is the Output gate decides what the next hidden state should be\n",
    "\n",
    "<p>Tradition neural networks suffer from <strong>short-term memory</strong>. Also, a big drawback is the vanishing gradient problem. ( While backpropagation the gradient becomes so small that it tends to 0 and such a neuron is of no use in further processing.) LSTMs efficiently improves performance by <strong>memorizing the relevant information </strong>that is important and finds the pattern.</p>\n",
    "\n",
    "\n",
    "\n",
    "<br/>\n",
    "\n",
    "11. [Naive Bayes Classifiers](#11)\n",
    "<h5>The Naive Bayes classifier is a simple classifier that classifies based on probabilities of events. It is the applied commonly to text classification.</h5>\n",
    "<h5>Bayes' Theorem</h5><img src='https://miro.medium.com/max/358/1*8vBP06EtIIf-420o_q1u6g.png' width='300'/>\n",
    "<p>So can we determined the probability <strong> P(disaster post|Is this a disaster post)</strong> and <strong> P(non-disaster post|Is this a disaster post)</strong>, and comparing which has a higher probability.</p>\n",
    "<p> Check <a href='https://medium.com/analytics-vidhya/naive-bayes-classifier-for-text-classification-556fabaf252b#:~:text=The%20Naive%20Bayes%20classifier%20is%20a%20simple%20classifier,include%20less%20training%20time%20and%20less%20training%20data.'>here</a> for detail of how Naive Bayes work using Bayes' Theorem and sentence spliting to word</p>\n",
    "\n",
    "\n",
    "<h3> Sample text and model testing </h3>\n",
    "\n",
    "[Click here to see more](#12)"
   ]
  },
  {
   "cell_type": "code",
   "execution_count": 1,
   "metadata": {},
   "outputs": [],
   "source": [
    "import pandas as pd\n",
    "import numpy as np\n",
    "import os\n",
    "import matplotlib.pyplot as plt\n",
    "import seaborn as sns\n",
    "import re\n",
    "import string\n",
    "import nltk\n",
    "# nltk.download('stopwords')\n",
    "from nltk.corpus import stopwords\n",
    "from collections import Counter\n",
    "# Tokenize\n",
    "from tensorflow import keras\n",
    "from tensorflow.keras.preprocessing.text import Tokenizer\n",
    "from tensorflow.keras.preprocessing.sequence import pad_sequences\n",
    "# create LSTM model\n",
    "from tensorflow.keras import layers\n",
    "from sklearn.metrics import confusion_matrix\n",
    "from sklearn.metrics import f1_score\n",
    "from sklearn.metrics import accuracy_score"
   ]
  },
  {
   "cell_type": "code",
   "execution_count": 2,
   "metadata": {},
   "outputs": [],
   "source": [
    "path = '/Users/Asus/Desktop/Unity Game/python/Data_Analysis/Text_Classification/dataset'\n",
    "\n",
    "train = pd.read_csv(os.path.join(path, 'train.csv'))\n",
    "test = pd.read_csv(os.path.join(path, 'test.csv'))\n",
    "submission = pd.read_csv(os.path.join(path, 'sample_submission.csv'))"
   ]
  },
  {
   "cell_type": "markdown",
   "metadata": {},
   "source": [
    "## First glance of data"
   ]
  },
  {
   "cell_type": "code",
   "execution_count": 3,
   "metadata": {},
   "outputs": [
    {
     "data": {
      "text/html": [
       "<div>\n",
       "<style scoped>\n",
       "    .dataframe tbody tr th:only-of-type {\n",
       "        vertical-align: middle;\n",
       "    }\n",
       "\n",
       "    .dataframe tbody tr th {\n",
       "        vertical-align: top;\n",
       "    }\n",
       "\n",
       "    .dataframe thead th {\n",
       "        text-align: right;\n",
       "    }\n",
       "</style>\n",
       "<table border=\"1\" class=\"dataframe\">\n",
       "  <thead>\n",
       "    <tr style=\"text-align: right;\">\n",
       "      <th></th>\n",
       "      <th>id</th>\n",
       "      <th>keyword</th>\n",
       "      <th>location</th>\n",
       "      <th>text</th>\n",
       "      <th>target</th>\n",
       "    </tr>\n",
       "  </thead>\n",
       "  <tbody>\n",
       "    <tr>\n",
       "      <th>0</th>\n",
       "      <td>1</td>\n",
       "      <td>NaN</td>\n",
       "      <td>NaN</td>\n",
       "      <td>Our Deeds are the Reason of this #earthquake M...</td>\n",
       "      <td>1</td>\n",
       "    </tr>\n",
       "    <tr>\n",
       "      <th>1</th>\n",
       "      <td>4</td>\n",
       "      <td>NaN</td>\n",
       "      <td>NaN</td>\n",
       "      <td>Forest fire near La Ronge Sask. Canada</td>\n",
       "      <td>1</td>\n",
       "    </tr>\n",
       "    <tr>\n",
       "      <th>2</th>\n",
       "      <td>5</td>\n",
       "      <td>NaN</td>\n",
       "      <td>NaN</td>\n",
       "      <td>All residents asked to 'shelter in place' are ...</td>\n",
       "      <td>1</td>\n",
       "    </tr>\n",
       "    <tr>\n",
       "      <th>3</th>\n",
       "      <td>6</td>\n",
       "      <td>NaN</td>\n",
       "      <td>NaN</td>\n",
       "      <td>13,000 people receive #wildfires evacuation or...</td>\n",
       "      <td>1</td>\n",
       "    </tr>\n",
       "    <tr>\n",
       "      <th>4</th>\n",
       "      <td>7</td>\n",
       "      <td>NaN</td>\n",
       "      <td>NaN</td>\n",
       "      <td>Just got sent this photo from Ruby #Alaska as ...</td>\n",
       "      <td>1</td>\n",
       "    </tr>\n",
       "  </tbody>\n",
       "</table>\n",
       "</div>"
      ],
      "text/plain": [
       "   id keyword location                                               text  \\\n",
       "0   1     NaN      NaN  Our Deeds are the Reason of this #earthquake M...   \n",
       "1   4     NaN      NaN             Forest fire near La Ronge Sask. Canada   \n",
       "2   5     NaN      NaN  All residents asked to 'shelter in place' are ...   \n",
       "3   6     NaN      NaN  13,000 people receive #wildfires evacuation or...   \n",
       "4   7     NaN      NaN  Just got sent this photo from Ruby #Alaska as ...   \n",
       "\n",
       "   target  \n",
       "0       1  \n",
       "1       1  \n",
       "2       1  \n",
       "3       1  \n",
       "4       1  "
      ]
     },
     "execution_count": 3,
     "metadata": {},
     "output_type": "execute_result"
    }
   ],
   "source": [
    "train.head()"
   ]
  },
  {
   "cell_type": "markdown",
   "metadata": {},
   "source": [
    "<strong>Note:</strong>\n",
    "<ol>\n",
    "    <li>text: Twitter texts </li>\n",
    "    <li>target: 1 mean disaster text, 0 mean non-disaster text</li>\n",
    "</ol>"
   ]
  },
  {
   "cell_type": "code",
   "execution_count": 4,
   "metadata": {},
   "outputs": [
    {
     "name": "stdout",
     "output_type": "stream",
     "text": [
      "first 10 sample twitter texts (original):\n"
     ]
    },
    {
     "data": {
      "text/plain": [
       "[(0, 'Our Deeds are the Reason of this #earthquake May ALLAH Forgive us all'),\n",
       " (1, 'Forest fire near La Ronge Sask. Canada'),\n",
       " (2,\n",
       "  \"All residents asked to 'shelter in place' are being notified by officers. No other evacuation or shelter in place orders are expected\"),\n",
       " (3, '13,000 people receive #wildfires evacuation orders in California '),\n",
       " (4,\n",
       "  'Just got sent this photo from Ruby #Alaska as smoke from #wildfires pours into a school '),\n",
       " (5,\n",
       "  '#RockyFire Update => California Hwy. 20 closed in both directions due to Lake County fire - #CAfire #wildfires'),\n",
       " (6,\n",
       "  '#flood #disaster Heavy rain causes flash flooding of streets in Manitou, Colorado Springs areas'),\n",
       " (7, \"I'm on top of the hill and I can see a fire in the woods...\"),\n",
       " (8,\n",
       "  \"There's an emergency evacuation happening now in the building across the street\"),\n",
       " (9, \"I'm afraid that the tornado is coming to our area...\")]"
      ]
     },
     "execution_count": 4,
     "metadata": {},
     "output_type": "execute_result"
    }
   ],
   "source": [
    "print('first 10 sample twitter texts (original):')\n",
    "[(idx, txt) for idx, txt in enumerate(train.text.to_numpy()[:10])]"
   ]
  },
  {
   "cell_type": "code",
   "execution_count": 5,
   "metadata": {},
   "outputs": [
    {
     "data": {
      "text/html": [
       "<div>\n",
       "<style scoped>\n",
       "    .dataframe tbody tr th:only-of-type {\n",
       "        vertical-align: middle;\n",
       "    }\n",
       "\n",
       "    .dataframe tbody tr th {\n",
       "        vertical-align: top;\n",
       "    }\n",
       "\n",
       "    .dataframe thead th {\n",
       "        text-align: right;\n",
       "    }\n",
       "</style>\n",
       "<table border=\"1\" class=\"dataframe\">\n",
       "  <thead>\n",
       "    <tr style=\"text-align: right;\">\n",
       "      <th></th>\n",
       "      <th>id</th>\n",
       "      <th>keyword</th>\n",
       "      <th>location</th>\n",
       "      <th>text</th>\n",
       "      <th>target</th>\n",
       "    </tr>\n",
       "  </thead>\n",
       "  <tbody>\n",
       "    <tr>\n",
       "      <th>count</th>\n",
       "      <td>7613.000000</td>\n",
       "      <td>7552</td>\n",
       "      <td>5080</td>\n",
       "      <td>7613</td>\n",
       "      <td>7613.00000</td>\n",
       "    </tr>\n",
       "    <tr>\n",
       "      <th>unique</th>\n",
       "      <td>NaN</td>\n",
       "      <td>221</td>\n",
       "      <td>3341</td>\n",
       "      <td>7503</td>\n",
       "      <td>NaN</td>\n",
       "    </tr>\n",
       "    <tr>\n",
       "      <th>top</th>\n",
       "      <td>NaN</td>\n",
       "      <td>fatalities</td>\n",
       "      <td>USA</td>\n",
       "      <td>11-Year-Old Boy Charged With Manslaughter of T...</td>\n",
       "      <td>NaN</td>\n",
       "    </tr>\n",
       "    <tr>\n",
       "      <th>freq</th>\n",
       "      <td>NaN</td>\n",
       "      <td>45</td>\n",
       "      <td>104</td>\n",
       "      <td>10</td>\n",
       "      <td>NaN</td>\n",
       "    </tr>\n",
       "    <tr>\n",
       "      <th>mean</th>\n",
       "      <td>5441.934848</td>\n",
       "      <td>NaN</td>\n",
       "      <td>NaN</td>\n",
       "      <td>NaN</td>\n",
       "      <td>0.42966</td>\n",
       "    </tr>\n",
       "    <tr>\n",
       "      <th>std</th>\n",
       "      <td>3137.116090</td>\n",
       "      <td>NaN</td>\n",
       "      <td>NaN</td>\n",
       "      <td>NaN</td>\n",
       "      <td>0.49506</td>\n",
       "    </tr>\n",
       "    <tr>\n",
       "      <th>min</th>\n",
       "      <td>1.000000</td>\n",
       "      <td>NaN</td>\n",
       "      <td>NaN</td>\n",
       "      <td>NaN</td>\n",
       "      <td>0.00000</td>\n",
       "    </tr>\n",
       "    <tr>\n",
       "      <th>25%</th>\n",
       "      <td>2734.000000</td>\n",
       "      <td>NaN</td>\n",
       "      <td>NaN</td>\n",
       "      <td>NaN</td>\n",
       "      <td>0.00000</td>\n",
       "    </tr>\n",
       "    <tr>\n",
       "      <th>50%</th>\n",
       "      <td>5408.000000</td>\n",
       "      <td>NaN</td>\n",
       "      <td>NaN</td>\n",
       "      <td>NaN</td>\n",
       "      <td>0.00000</td>\n",
       "    </tr>\n",
       "    <tr>\n",
       "      <th>75%</th>\n",
       "      <td>8146.000000</td>\n",
       "      <td>NaN</td>\n",
       "      <td>NaN</td>\n",
       "      <td>NaN</td>\n",
       "      <td>1.00000</td>\n",
       "    </tr>\n",
       "    <tr>\n",
       "      <th>max</th>\n",
       "      <td>10873.000000</td>\n",
       "      <td>NaN</td>\n",
       "      <td>NaN</td>\n",
       "      <td>NaN</td>\n",
       "      <td>1.00000</td>\n",
       "    </tr>\n",
       "  </tbody>\n",
       "</table>\n",
       "</div>"
      ],
      "text/plain": [
       "                  id     keyword location  \\\n",
       "count    7613.000000        7552     5080   \n",
       "unique           NaN         221     3341   \n",
       "top              NaN  fatalities      USA   \n",
       "freq             NaN          45      104   \n",
       "mean     5441.934848         NaN      NaN   \n",
       "std      3137.116090         NaN      NaN   \n",
       "min         1.000000         NaN      NaN   \n",
       "25%      2734.000000         NaN      NaN   \n",
       "50%      5408.000000         NaN      NaN   \n",
       "75%      8146.000000         NaN      NaN   \n",
       "max     10873.000000         NaN      NaN   \n",
       "\n",
       "                                                     text      target  \n",
       "count                                                7613  7613.00000  \n",
       "unique                                               7503         NaN  \n",
       "top     11-Year-Old Boy Charged With Manslaughter of T...         NaN  \n",
       "freq                                                   10         NaN  \n",
       "mean                                                  NaN     0.42966  \n",
       "std                                                   NaN     0.49506  \n",
       "min                                                   NaN     0.00000  \n",
       "25%                                                   NaN     0.00000  \n",
       "50%                                                   NaN     0.00000  \n",
       "75%                                                   NaN     1.00000  \n",
       "max                                                   NaN     1.00000  "
      ]
     },
     "execution_count": 5,
     "metadata": {},
     "output_type": "execute_result"
    }
   ],
   "source": [
    "train.describe(include='all')"
   ]
  },
  {
   "cell_type": "markdown",
   "metadata": {},
   "source": [
    "## Data shape"
   ]
  },
  {
   "cell_type": "code",
   "execution_count": 6,
   "metadata": {},
   "outputs": [
    {
     "name": "stdout",
     "output_type": "stream",
     "text": [
      "Shape of train data: (7613, 5),\n",
      "Shape of test data: (3263, 4)\n"
     ]
    }
   ],
   "source": [
    "print(f'Shape of train data: {train.shape},\\nShape of test data: {test.shape}')"
   ]
  },
  {
   "cell_type": "markdown",
   "metadata": {},
   "source": [
    "## Missing data"
   ]
  },
  {
   "cell_type": "code",
   "execution_count": 7,
   "metadata": {},
   "outputs": [
    {
     "name": "stdout",
     "output_type": "stream",
     "text": [
      "Missing value count:\n"
     ]
    },
    {
     "data": {
      "text/plain": [
       "id             0\n",
       "keyword       61\n",
       "location    2533\n",
       "text           0\n",
       "target         0\n",
       "dtype: int64"
      ]
     },
     "execution_count": 7,
     "metadata": {},
     "output_type": "execute_result"
    }
   ],
   "source": [
    "print('Missing value count:')\n",
    "train.isnull().sum()"
   ]
  },
  {
   "cell_type": "markdown",
   "metadata": {},
   "source": [
    "## Target distribution ratio\n",
    "- to see evenness of our target data. Is dataset container equal amount of disaster post and non-disaster post?"
   ]
  },
  {
   "cell_type": "code",
   "execution_count": 8,
   "metadata": {},
   "outputs": [
    {
     "data": {
      "image/png": "[encoded data removed]",
      "text/plain": [
       "<Figure size 432x288 with 1 Axes>"
      ]
     },
     "metadata": {},
     "output_type": "display_data"
    }
   ],
   "source": [
    "target_class = {'Disaster' :(train.target == 1).sum(), 'No Disaster': (train.target == 0).sum()}\n",
    "plt.pie(data = target_class, labels=target_class.keys(), x=target_class.values(), autopct='%.0f%%')\n",
    "plt.title('training dataset target (Disaster status) pie chart')\n",
    "plt.show()"
   ]
  },
  {
   "cell_type": "markdown",
   "metadata": {},
   "source": [
    "## Text data preprocessing\n",
    "- Normal text contain redundant words, punctuation and url which are not helpful in text classification."
   ]
  },
  {
   "cell_type": "code",
   "execution_count": 9,
   "metadata": {},
   "outputs": [
    {
     "name": "stdout",
     "output_type": "stream",
     "text": [
      "Original text before preprocessing:\n"
     ]
    },
    {
     "data": {
      "text/plain": [
       "array(['Our Deeds are the Reason of this #earthquake May ALLAH Forgive us all',\n",
       "       'Forest fire near La Ronge Sask. Canada',\n",
       "       \"All residents asked to 'shelter in place' are being notified by officers. No other evacuation or shelter in place orders are expected\",\n",
       "       ...,\n",
       "       'M1.94 [01:04 UTC]?5km S of Volcano Hawaii. http://t.co/zDtoyd8EbJ',\n",
       "       'Police investigating after an e-bike collided with a car in Little Portugal. E-bike rider suffered serious non-life threatening injuries.',\n",
       "       'The Latest: More Homes Razed by Northern California Wildfire - ABC News http://t.co/YmY4rSkQ3d'],\n",
       "      dtype=object)"
      ]
     },
     "execution_count": 9,
     "metadata": {},
     "output_type": "execute_result"
    }
   ],
   "source": [
    "print('Original text before preprocessing:')\n",
    "train.text.to_numpy()"
   ]
  },
  {
   "cell_type": "markdown",
   "metadata": {},
   "source": [
    "<a id=\"1\"></a>\n",
    "### - Identify URL in the test and remove it\n",
    "- we can not get much information from url to identify the disaster posts, so we remove it.\n",
    "\n",
    "[Back to top](#0)"
   ]
  },
  {
   "cell_type": "code",
   "execution_count": 10,
   "metadata": {},
   "outputs": [
    {
     "name": "stdout",
     "output_type": "stream",
     "text": [
      "Original text with URL (first 5 text):\n"
     ]
    },
    {
     "data": {
      "text/plain": [
       "['@bbcmtd Wholesale Markets ablaze http://t.co/lHYXEOHY6C',\n",
       " 'We always try to bring the heavy. #metal #RT http://t.co/YAo1e0xngw',\n",
       " '#AFRICANBAZE: Breaking news:Nigeria flag set ablaze in Aba. http://t.co/2nndBGwyEi',\n",
       " 'On plus side LOOK AT THE SKY LAST NIGHT IT WAS ABLAZE http://t.co/qqsmshaJ3N',\n",
       " 'INEC Office in Abia Set Ablaze - http://t.co/3ImaomknnA']"
      ]
     },
     "execution_count": 10,
     "metadata": {},
     "output_type": "execute_result"
    }
   ],
   "source": [
    "print('Original text with URL (first 5 text):')\n",
    "[txt for txt in train.text if 'http:' in txt or 'www.' in txt][:5]"
   ]
  },
  {
   "cell_type": "code",
   "execution_count": 11,
   "metadata": {},
   "outputs": [
    {
     "name": "stdout",
     "output_type": "stream",
     "text": [
      "All the URL link has been removed\n"
     ]
    },
    {
     "data": {
      "text/plain": [
       "[]"
      ]
     },
     "execution_count": 11,
     "metadata": {},
     "output_type": "execute_result"
    }
   ],
   "source": [
    "def remove_url(text):\n",
    "    url = re.compile(r'https?://\\S+|www\\.\\S+')\n",
    "    return url.sub(r'', text)\n",
    "\n",
    "# for train dataset\n",
    "train['text_cleaned'] = train.text.apply(lambda x: remove_url(x))\n",
    "# for test dataset\n",
    "test['text_cleaned'] = test.text.apply(lambda x: remove_url(x))\n",
    "\n",
    "print('All the URL link has been removed')\n",
    "[txt for txt in train.text_cleaned if 'http:' in txt or 'www.' in txt][:]"
   ]
  },
  {
   "cell_type": "markdown",
   "metadata": {},
   "source": [
    "<a id=\"2\"></a>\n",
    "\n",
    "### - Remove all punctuation\n",
    "- Punctuation does not bring impact to our analysis either, so we remove it using string.punctuation.\n",
    "\n",
    "[Back to top](#0)"
   ]
  },
  {
   "cell_type": "code",
   "execution_count": 12,
   "metadata": {},
   "outputs": [
    {
     "data": {
      "text/plain": [
       "array(['Our Deeds are the Reason of this earthquake May ALLAH Forgive us all',\n",
       "       'Forest fire near La Ronge Sask Canada',\n",
       "       'All residents asked to shelter in place are being notified by officers No other evacuation or shelter in place orders are expected',\n",
       "       ..., 'M194 0104 UTC5km S of Volcano Hawaii ',\n",
       "       'Police investigating after an ebike collided with a car in Little Portugal Ebike rider suffered serious nonlife threatening injuries',\n",
       "       'The Latest More Homes Razed by Northern California Wildfire  ABC News '],\n",
       "      dtype=object)"
      ]
     },
     "execution_count": 12,
     "metadata": {},
     "output_type": "execute_result"
    }
   ],
   "source": [
    "# train dataset\n",
    "train['text_cleaned'] = train.text_cleaned.apply(lambda x: x.translate(x.maketrans('', '', string.punctuation)))\n",
    "# test dataset\n",
    "test['text_cleaned'] = test.text_cleaned.apply(lambda x: x.translate(x.maketrans('', '', string.punctuation)))\n",
    "train['text_cleaned'].to_numpy()"
   ]
  },
  {
   "cell_type": "markdown",
   "metadata": {},
   "source": [
    "<a id=\"3\"></a>\n",
    "### - Remove stop words (<i>the</i>, <i>a</i>, <i>an</i>, <i>in</i>, ...)\n",
    "- The stop words is a redundant words which does not bring significant meaning to the message, so we remove it.\n",
    "\n",
    "[Back to top](#0)"
   ]
  },
  {
   "cell_type": "code",
   "execution_count": 13,
   "metadata": {},
   "outputs": [
    {
     "data": {
      "text/plain": [
       "array(['deeds reason earthquake may allah forgive us',\n",
       "       'forest fire near la ronge sask canada',\n",
       "       'residents asked shelter place notified officers evacuation shelter place orders expected',\n",
       "       ..., 'm194 0104 utc5km volcano hawaii',\n",
       "       'police investigating ebike collided car little portugal ebike rider suffered serious nonlife threatening injuries',\n",
       "       'latest homes razed northern california wildfire abc news'],\n",
       "      dtype=object)"
      ]
     },
     "execution_count": 13,
     "metadata": {},
     "output_type": "execute_result"
    }
   ],
   "source": [
    "#  get all the stop words\n",
    "stop = set(stopwords.words('english'))\n",
    "# remove it\n",
    "train['text_cleaned'] = train.text_cleaned.apply(lambda x: ' '.join([word.lower() for word in x.split() if word.lower() not in stop]))\n",
    "test['text_cleaned'] = test.text_cleaned.apply(lambda x: ' '.join([word.lower() for word in x.split() if word.lower() not in stop]))\n",
    "train['text_cleaned'].to_numpy()"
   ]
  },
  {
   "cell_type": "markdown",
   "metadata": {},
   "source": [
    "<a id=\"4\"></a>\n",
    "### - Count unique words\n",
    "- We want to know how many words and how frequent the word occured in our data\n",
    "\n",
    "[Back to top](#0)"
   ]
  },
  {
   "cell_type": "markdown",
   "metadata": {},
   "source": [
    "<p> Using Counter from collection to count unique word</p>"
   ]
  },
  {
   "cell_type": "code",
   "execution_count": 14,
   "metadata": {},
   "outputs": [
    {
     "name": "stdout",
     "output_type": "stream",
     "text": [
      "Total number of words : 17971\n",
      "Most common words found: [('like', 345), ('im', 299), ('amp', 298), ('fire', 250), ('get', 229)]\n"
     ]
    }
   ],
   "source": [
    "def count_word(text):\n",
    "    count = Counter()\n",
    "    for txt in text:\n",
    "        for word in txt.split():\n",
    "            # save word and put in dict\n",
    "            count[word] +=1\n",
    "    return count\n",
    "        \n",
    "counter_train = count_word(train.text_cleaned)\n",
    "counter_test = count_word(test.text_cleaned)\n",
    "num_unique_word = len(counter_train)\n",
    "\n",
    "print(f'Total number of words : {num_unique_word}')\n",
    "print(f'Most common words found: {counter_train.most_common(5)}')"
   ]
  },
  {
   "cell_type": "markdown",
   "metadata": {},
   "source": [
    "<a id=\"5\"></a>\n",
    "## Splitting training and validation set\n",
    "- We seperate the data to training and validation set. Training data will feed inside model and train. When model is fully trained by train data, we then feed in validation data to test the modal accuracy. \n",
    "\n",
    "\n",
    "[Back to top](#0)"
   ]
  },
  {
   "cell_type": "code",
   "execution_count": 15,
   "metadata": {},
   "outputs": [
    {
     "name": "stdout",
     "output_type": "stream",
     "text": [
      "Training set shape: 6090\n",
      "Validation set shape: 1523\n"
     ]
    }
   ],
   "source": [
    "#  int to round off\n",
    "train_size = int(train.shape[0] * 0.8)\n",
    "\n",
    "# convert to numpy array\n",
    "X_train = train.text_cleaned[:train_size].to_numpy()\n",
    "y_train = train.target[:train_size].to_numpy()\n",
    "X_valid = train.text_cleaned[train_size:].to_numpy()\n",
    "y_valid = train.target[train_size:].to_numpy()\n",
    "test_data = test.text_cleaned.to_numpy()\n",
    "\n",
    "print(f'Training set shape: {len(X_train)}\\nValidation set shape: {len(X_valid)}')"
   ]
  },
  {
   "cell_type": "markdown",
   "metadata": {},
   "source": [
    "<a id=\"6\"></a>\n",
    "## Vectorize a text corpus (truning text into sequence of integers)\n",
    "- Machine learning model only take number as input, so we convert text into number. Since we know how many word in our dataset (unique word), we can assign number to each text using tokenizer library.\n",
    "\n",
    " [Back to top](#0)"
   ]
  },
  {
   "cell_type": "code",
   "execution_count": 16,
   "metadata": {},
   "outputs": [
    {
     "name": "stdout",
     "output_type": "stream",
     "text": [
      "total word index: 15470\n",
      "\n",
      "Word index dict: (show only first 20 words)\n",
      "like 1\n",
      "amp 2\n",
      "fire 3\n",
      "im 4\n",
      "get 5\n",
      "via 6\n",
      "new 7\n",
      "people 8\n",
      "news 9\n",
      "dont 10\n",
      "emergency 11\n",
      "one 12\n",
      "2 13\n",
      "us 14\n",
      "video 15\n",
      "disaster 16\n",
      "burning 17\n",
      "body 18\n",
      "would 19\n",
      "buildings 20\n"
     ]
    }
   ],
   "source": [
    "tokenizer = Tokenizer(num_words=num_unique_word)\n",
    "tokenizer.fit_on_texts(X_train)\n",
    "\n",
    "word_index = tokenizer.word_index\n",
    "print(f'total word index: {len(word_index)}\\n')\n",
    "print('Word index dict: (show only first 20 words)')\n",
    "for idx, (k, v) in enumerate(word_index.items()):\n",
    "    if idx == 20:\n",
    "        break\n",
    "    print(k, v)"
   ]
  },
  {
   "cell_type": "markdown",
   "metadata": {},
   "source": [
    "<a id=\"7\"></a>\n",
    "### - replacing text into series of number\n",
    "[Back to top](#0)"
   ]
  },
  {
   "cell_type": "code",
   "execution_count": 17,
   "metadata": {},
   "outputs": [
    {
     "data": {
      "text/plain": [
       "[[3739, 696, 235, 41, 1282, 3740, 14],\n",
       " [71, 3, 129, 576, 5670, 5671, 1283],\n",
       " [1448, 1186, 1882, 495, 5672, 1449, 116, 1882, 495, 976, 1187],\n",
       " [2243, 8, 3741, 1070, 116, 976, 24],\n",
       " [27, 1071, 358, 5673, 1635, 892, 1070, 5674, 91]]"
      ]
     },
     "execution_count": 17,
     "metadata": {},
     "output_type": "execute_result"
    }
   ],
   "source": [
    "X_train_sequences = tokenizer.texts_to_sequences(X_train)\n",
    "X_valid_sequences = tokenizer.texts_to_sequences(X_valid)\n",
    "test_sequences = tokenizer.texts_to_sequences(test_data)\n",
    "\n",
    "X_train_sequences[:5]"
   ]
  },
  {
   "cell_type": "code",
   "execution_count": 18,
   "metadata": {},
   "outputs": [
    {
     "data": {
      "text/plain": [
       "0         deeds reason earthquake may allah forgive us\n",
       "1                forest fire near la ronge sask canada\n",
       "2    residents asked shelter place notified officer...\n",
       "3    13000 people receive wildfires evacuation orde...\n",
       "4    got sent photo ruby alaska smoke wildfires pou...\n",
       "Name: text_cleaned, dtype: object"
      ]
     },
     "execution_count": 18,
     "metadata": {},
     "output_type": "execute_result"
    }
   ],
   "source": [
    "train.text_cleaned[:5]"
   ]
  },
  {
   "cell_type": "markdown",
   "metadata": {},
   "source": [
    "<a id=\"8\"></a>\n",
    "### - Make every sentences/ text same length\n",
    "- we make every sentence to same length for training purposes\n",
    "\n",
    "[Back to top](#0)"
   ]
  },
  {
   "cell_type": "code",
   "execution_count": 19,
   "metadata": {},
   "outputs": [
    {
     "name": "stdout",
     "output_type": "stream",
     "text": [
      "train_padded shape: (6090, 25)\n",
      "valid_padded shape: (1523, 25)\n"
     ]
    },
    {
     "data": {
      "text/plain": [
       "array([3739,  696,  235,   41, 1282, 3740,   14,    0,    0,    0,    0,\n",
       "          0,    0,    0,    0,    0,    0,    0,    0,    0,    0,    0,\n",
       "          0,    0,    0])"
      ]
     },
     "execution_count": 19,
     "metadata": {},
     "output_type": "execute_result"
    }
   ],
   "source": [
    "max_text_len = max([len(txt) for txt in X_train_sequences])\n",
    "\n",
    "# padding and truncating for numbering position\n",
    "train_padded = pad_sequences(X_train_sequences, maxlen=max_text_len, padding='post', truncating='post')\n",
    "valid_padded = pad_sequences(X_valid_sequences, maxlen=max_text_len, padding='post', truncating='post')\n",
    "test_padded = pad_sequences(test_sequences, maxlen=max_text_len, padding='post', truncating='post')\n",
    "\n",
    "print(f'train_padded shape: {train_padded.shape}\\nvalid_padded shape: {valid_padded.shape}')\n",
    "train_padded[0]"
   ]
  },
  {
   "cell_type": "markdown",
   "metadata": {},
   "source": [
    "<a id=\"9\"></a>\n",
    "### - Reversing keys values in word index dict, for decoding later\n",
    "[Back to top](#0)"
   ]
  },
  {
   "cell_type": "code",
   "execution_count": 20,
   "metadata": {},
   "outputs": [],
   "source": [
    "reverse_word_index = dict((val, key) for key, val in word_index.items())\n",
    "\n",
    "# get in dict: with 2nd parameter, if there is no such seq, return ?\n",
    "def decode(seq):\n",
    "    return ' '.join([reverse_word_index.get(s, '?') for s in seq])"
   ]
  },
  {
   "cell_type": "markdown",
   "metadata": {},
   "source": [
    "<a id=\"10\"></a>\n",
    "# Create LSTM model\n",
    "[Back to top](#0)"
   ]
  },
  {
   "cell_type": "markdown",
   "metadata": {},
   "source": [
    "<a href=\"https://www.tensorflow.org/text/guide/word_embeddings\">Tensorflow Word Embeddings link</a>\n",
    "<p>Create LSTM< using Tensorflow & Keras</p>"
   ]
  },
  {
   "cell_type": "code",
   "execution_count": 21,
   "metadata": {},
   "outputs": [
    {
     "name": "stdout",
     "output_type": "stream",
     "text": [
      "Model: \"sequential\"\n",
      "_________________________________________________________________\n",
      "Layer (type)                 Output Shape              Param #   \n",
      "=================================================================\n",
      "embedding (Embedding)        (None, 25, 32)            575072    \n",
      "_________________________________________________________________\n",
      "lstm (LSTM)                  (None, 64)                24832     \n",
      "_________________________________________________________________\n",
      "dense (Dense)                (None, 1)                 65        \n",
      "=================================================================\n",
      "Total params: 599,969\n",
      "Trainable params: 599,969\n",
      "Non-trainable params: 0\n",
      "_________________________________________________________________\n"
     ]
    }
   ],
   "source": [
    "model = keras.models.Sequential()\n",
    "model.add(layers.Embedding(num_unique_word, 32, input_length=max_text_len))\n",
    "# Take input as integer matrix of size (batch, input_length)\n",
    "# Largest integer (word index) in input should not be larger than num_words (vocabulary size)\n",
    "#  output shape is (batch_dimension, input_length, 32)\n",
    "\n",
    "# 64 number of output, dropout is 10%\n",
    "model.add(layers.LSTM(64, dropout=0.1))\n",
    "#  Dense with 1 output in the end with sigmoid function\n",
    "model.add(layers.Dense(1, activation='sigmoid'))\n",
    "model.summary()"
   ]
  },
  {
   "cell_type": "code",
   "execution_count": 22,
   "metadata": {},
   "outputs": [],
   "source": [
    "# from_logits=False as we already specify sigmoid function\n",
    "loss = keras.losses.BinaryCrossentropy(from_logits=False)\n",
    "optim = keras.optimizers.Adam(learning_rate=0.005)\n",
    "metrics=['accuracy']\n",
    "\n",
    "model.compile(loss=loss, optimizer=optim, metrics=metrics)"
   ]
  },
  {
   "cell_type": "code",
   "execution_count": 23,
   "metadata": {},
   "outputs": [
    {
     "name": "stdout",
     "output_type": "stream",
     "text": [
      "Epoch 1/10\n",
      "191/191 - 5s - loss: 0.6016 - accuracy: 0.7000 - val_loss: 0.5309 - val_accuracy: 0.7715\n",
      "Epoch 2/10\n",
      "191/191 - 3s - loss: 0.4291 - accuracy: 0.8328 - val_loss: 0.6162 - val_accuracy: 0.7223\n",
      "Epoch 3/10\n",
      "191/191 - 3s - loss: 0.3927 - accuracy: 0.8612 - val_loss: 0.7233 - val_accuracy: 0.6901\n",
      "Epoch 4/10\n",
      "191/191 - 3s - loss: 0.3597 - accuracy: 0.8764 - val_loss: 0.8418 - val_accuracy: 0.6763\n",
      "Epoch 5/10\n",
      "191/191 - 3s - loss: 0.3492 - accuracy: 0.8803 - val_loss: 0.7507 - val_accuracy: 0.6802\n",
      "Epoch 6/10\n",
      "191/191 - 3s - loss: 0.3680 - accuracy: 0.8612 - val_loss: 0.8174 - val_accuracy: 0.6546\n",
      "Epoch 7/10\n",
      "191/191 - 3s - loss: 0.3653 - accuracy: 0.8596 - val_loss: 0.7436 - val_accuracy: 0.6756\n",
      "Epoch 8/10\n",
      "191/191 - 3s - loss: 0.3526 - accuracy: 0.8608 - val_loss: 0.7458 - val_accuracy: 0.6645\n",
      "Epoch 9/10\n",
      "191/191 - 3s - loss: 0.3290 - accuracy: 0.8637 - val_loss: 0.6197 - val_accuracy: 0.7347\n",
      "Epoch 10/10\n",
      "191/191 - 3s - loss: 0.2445 - accuracy: 0.9056 - val_loss: 0.6369 - val_accuracy: 0.7019\n"
     ]
    }
   ],
   "source": [
    "history = model.fit(train_padded, y_train, epochs=10, validation_data=(valid_padded, y_valid), verbose=2)"
   ]
  },
  {
   "cell_type": "code",
   "execution_count": 24,
   "metadata": {},
   "outputs": [
    {
     "data": {
      "image/png": "[encoded data removed]",
      "text/plain": [
       "<Figure size 432x288 with 1 Axes>"
      ]
     },
     "metadata": {
      "needs_background": "light"
     },
     "output_type": "display_data"
    },
    {
     "data": {
      "image/png": "[encoded data removed]",
      "text/plain": [
       "<Figure size 432x288 with 1 Axes>"
      ]
     },
     "metadata": {
      "needs_background": "light"
     },
     "output_type": "display_data"
    }
   ],
   "source": [
    "def plot_graph(history, string):\n",
    "    plt.plot(history.history[string])\n",
    "    plt.plot(history.history['val_'+string])\n",
    "    plt.xlabel(\"Epochs\")\n",
    "    plt.ylabel(string)\n",
    "    plt.legend([string, 'val_'+string])\n",
    "    plt.show()\n",
    "    \n",
    "plot_graph(history, 'accuracy')\n",
    "plot_graph(history, 'loss')"
   ]
  },
  {
   "cell_type": "markdown",
   "metadata": {},
   "source": [
    "## Confusion matrix\n",
    "<p>A table with two rows and two columns that reports the number of false positives, false negatives, true positives, and true negatives. This allows more detailed analysis than mere proportion of correct classifications (accuracy).<p>\n",
    "\n",
    "- calculate Accuracy, percision and sensitivity(recall)\n",
    "<img src='https://2.bp.blogspot.com/-EvSXDotTOwc/XMfeOGZ-CVI/AAAAAAAAEiE/oePFfvhfOQM11dgRn9FkPxlegCXbgOF4QCLcBGAs/s1600/confusionMatrxiUpdated.jpg' width='800'/>\n",
    "\n",
    "- calculate F1 score\n",
    "<img src='https://www.researchgate.net/profile/Stephan_Spiegel/publication/327982563/figure/download/fig1/AS:676888573931525@1538394220830/Confusion-matrix-illustrating-the-calculation-of-precision-recall-and-F1-score.png' width='1000'/>"
   ]
  },
  {
   "cell_type": "code",
   "execution_count": 25,
   "metadata": {},
   "outputs": [
    {
     "name": "stdout",
     "output_type": "stream",
     "text": [
      "F1 score: 0.71\n",
      "Accuracy score: 0.70\n"
     ]
    },
    {
     "data": {
      "image/png": "[encoded data removed]",
      "text/plain": [
       "<Figure size 432x288 with 2 Axes>"
      ]
     },
     "metadata": {
      "needs_background": "light"
     },
     "output_type": "display_data"
    }
   ],
   "source": [
    "val_pred = model.predict(valid_padded)\n",
    "val_out = [1 if p > 0.5 else 0 for p in val_pred]\n",
    "cm = confusion_matrix(y_valid, val_out)\n",
    "sns.heatmap(cm.T, annot=True, fmt='d', xticklabels=['Yes', 'No'], yticklabels=['Yes', 'No'])\n",
    "plt.title('LSTM confusion matrix')\n",
    "plt.xlabel('true label')\n",
    "plt.ylabel('predicted label')\n",
    "\n",
    "print(f'F1 score: {f1_score(y_valid, val_out):.2f}')\n",
    "print(f'Accuracy score: {accuracy_score(y_valid, val_out):.2f}')"
   ]
  },
  {
   "cell_type": "code",
   "execution_count": 26,
   "metadata": {},
   "outputs": [],
   "source": [
    "prediction = model.predict(test_padded)\n",
    "# round off to 0 or 1\n",
    "result =[1 if p > 0.5 else 0 for p in prediction]"
   ]
  },
  {
   "cell_type": "code",
   "execution_count": 27,
   "metadata": {},
   "outputs": [
    {
     "name": "stdout",
     "output_type": "stream",
     "text": [
      "Just happened a terrible car crash . post: non-disaster\n",
      "Heard about #earthquake is different cities, stay safe everyone. . post: disaster\n",
      "there is a forest fire at spot pond, geese are fleeing across the street, I cannot save them all . post: disaster\n",
      "Apocalypse lighting. #Spokane #wildfires . post: disaster\n",
      "Typhoon Soudelor kills 28 in China and Taiwan . post: disaster\n",
      "We're shaking...It's an earthquake . post: disaster\n",
      "They'd probably still show more life than Arsenal did yesterday, eh? EH? . post: non-disaster\n",
      "Hey! How are you? . post: non-disaster\n",
      "What a nice hat? . post: non-disaster\n",
      "Fuck off! . post: non-disaster\n"
     ]
    }
   ],
   "source": [
    "for txt, target in zip(test.text[:10], result[:10]):\n",
    "    print(txt, f'. post: {\"non-disaster\" if target == 0 else \"disaster\"}')"
   ]
  },
  {
   "cell_type": "markdown",
   "metadata": {},
   "source": [
    "## Submission"
   ]
  },
  {
   "cell_type": "code",
   "execution_count": 28,
   "metadata": {},
   "outputs": [],
   "source": [
    "submission['target'] = result\n",
    "submission.to_csv(os.path.join(path, 'first_submission.csv'), index=False)"
   ]
  },
  {
   "cell_type": "markdown",
   "metadata": {},
   "source": [
    "<a id=\"11\"></a>\n",
    "# Naive Bayes Classifiers\n",
    "[Back to top](#0)"
   ]
  },
  {
   "cell_type": "code",
   "execution_count": 29,
   "metadata": {},
   "outputs": [],
   "source": [
    "from sklearn.feature_extraction.text import TfidfVectorizer\n",
    "from sklearn.naive_bayes import MultinomialNB\n",
    "from sklearn.pipeline import make_pipeline\n",
    "from sklearn.model_selection import train_test_split"
   ]
  },
  {
   "cell_type": "code",
   "execution_count": 30,
   "metadata": {},
   "outputs": [],
   "source": [
    "Xtrain, Xvalid, ytrain, yvalid = train_test_split(train.text, train.target, test_size=0.2, random_state=42)"
   ]
  },
  {
   "cell_type": "code",
   "execution_count": 31,
   "metadata": {},
   "outputs": [
    {
     "data": {
      "text/plain": [
       "Pipeline(steps=[('tfidfvectorizer', TfidfVectorizer()),\n",
       "                ('multinomialnb', MultinomialNB())])"
      ]
     },
     "execution_count": 31,
     "metadata": {},
     "output_type": "execute_result"
    }
   ],
   "source": [
    "nb_model = make_pipeline(TfidfVectorizer(), MultinomialNB())\n",
    "nb_model.fit(Xtrain, ytrain)"
   ]
  },
  {
   "cell_type": "code",
   "execution_count": 32,
   "metadata": {},
   "outputs": [
    {
     "name": "stdout",
     "output_type": "stream",
     "text": [
      "Naive Bayes F1 score: 0.73\n",
      "Naive Bayes Accuracy score: 0.80\n"
     ]
    },
    {
     "data": {
      "image/png": "[encoded data removed]",
      "text/plain": [
       "<Figure size 432x288 with 2 Axes>"
      ]
     },
     "metadata": {
      "needs_background": "light"
     },
     "output_type": "display_data"
    }
   ],
   "source": [
    "val_nb_pred = nb_model.predict(Xvalid)\n",
    "nb_cm = confusion_matrix(yvalid, val_nb_pred)\n",
    "sns.heatmap(nb_cm.T, square=True, annot=True, fmt='d', xticklabels=['Yes', 'No'], yticklabels=['Yes', 'No'])\n",
    "plt.title('Naive Bayes confusion matrix')\n",
    "plt.xlabel('true label')\n",
    "plt.ylabel('predicted label')\n",
    "\n",
    "# print('Naive Bayes Confusion Matrix:\\n', confusion_matrix(yvalid, val_nb_pred))\n",
    "print(f'Naive Bayes F1 score: {f1_score(yvalid, val_nb_pred):.2f}')\n",
    "print(f'Naive Bayes Accuracy score: {accuracy_score(yvalid, val_nb_pred):.2f}')"
   ]
  },
  {
   "cell_type": "markdown",
   "metadata": {},
   "source": [
    "<h5>Observation: As comparison, we can see Naive Bayes has better F1 score and accuracy compare with LSTM</h5>"
   ]
  },
  {
   "cell_type": "code",
   "execution_count": 33,
   "metadata": {},
   "outputs": [],
   "source": [
    "# test data\n",
    "nb_result = nb_model.predict(test.text)"
   ]
  },
  {
   "cell_type": "code",
   "execution_count": 34,
   "metadata": {},
   "outputs": [
    {
     "data": {
      "text/plain": [
       "array([['Just happened a terrible car crash', 'disaster'],\n",
       "       ['Heard about #earthquake is different cities, stay safe everyone.',\n",
       "        'non-disaster'],\n",
       "       ['there is a forest fire at spot pond, geese are fleeing across the street, I cannot save them all',\n",
       "        'disaster'],\n",
       "       ['Apocalypse lighting. #Spokane #wildfires', 'disaster'],\n",
       "       ['Typhoon Soudelor kills 28 in China and Taiwan', 'disaster'],\n",
       "       [\"We're shaking...It's an earthquake\", 'disaster'],\n",
       "       [\"They'd probably still show more life than Arsenal did yesterday, eh? EH?\",\n",
       "        'non-disaster'],\n",
       "       ['Hey! How are you?', 'non-disaster'],\n",
       "       ['What a nice hat?', 'non-disaster'],\n",
       "       ['Fuck off!', 'non-disaster'],\n",
       "       [\"No I don't like cold!\", 'non-disaster'],\n",
       "       [\"NOOOOOOOOO! Don't do that!\", 'non-disaster'],\n",
       "       [\"No don't tell me that!\", 'non-disaster'],\n",
       "       ['What if?!', 'non-disaster'],\n",
       "       ['Awesome!', 'non-disaster']], dtype=object)"
      ]
     },
     "execution_count": 34,
     "metadata": {},
     "output_type": "execute_result"
    }
   ],
   "source": [
    "test['nb_target'] = [\"non-disaster\" if nb == 0 else \"disaster\"for nb in nb_result]\n",
    "test[['text', 'nb_target']][:15].to_numpy()"
   ]
  },
  {
   "cell_type": "code",
   "execution_count": 35,
   "metadata": {},
   "outputs": [],
   "source": [
    "# submission['target'] = nb_result\n",
    "# submission.to_csv(os.path.join(path, 'NB_submission_3Oct.csv'), index=False)"
   ]
  },
  {
   "cell_type": "markdown",
   "metadata": {},
   "source": [
    "<a id=\"12\"></a>\n",
    "## To predict is my tweet is disaster or not\n",
    "\n",
    "[back to top](#0)"
   ]
  },
  {
   "cell_type": "code",
   "execution_count": 36,
   "metadata": {},
   "outputs": [],
   "source": [
    "def text_prediction(txt, model=nb_model):\n",
    "    pred = model.predict([txt])\n",
    "    return ['Not disaster post' if txt==0 else 'Disaster post' for txt in pred][0]"
   ]
  },
  {
   "cell_type": "code",
   "execution_count": 37,
   "metadata": {},
   "outputs": [
    {
     "data": {
      "text/plain": [
       "'Not disaster post'"
      ]
     },
     "execution_count": 37,
     "metadata": {},
     "output_type": "execute_result"
    }
   ],
   "source": [
    "text_prediction('I am so sad')"
   ]
  },
  {
   "cell_type": "code",
   "execution_count": 38,
   "metadata": {},
   "outputs": [
    {
     "data": {
      "text/plain": [
       "'Disaster post'"
      ]
     },
     "execution_count": 38,
     "metadata": {},
     "output_type": "execute_result"
    }
   ],
   "source": [
    "text_prediction('Earthquake happen in KL!!! #scare #panic')"
   ]
  },
  {
   "cell_type": "code",
   "execution_count": 39,
   "metadata": {},
   "outputs": [
    {
     "data": {
      "text/plain": [
       "'Disaster post'"
      ]
     },
     "execution_count": 39,
     "metadata": {},
     "output_type": "execute_result"
    }
   ],
   "source": [
    "text_prediction('The War happen in ...')"
   ]
  },
  {
   "cell_type": "code",
   "execution_count": 40,
   "metadata": {},
   "outputs": [
    {
     "data": {
      "text/plain": [
       "'Disaster post'"
      ]
     },
     "execution_count": 40,
     "metadata": {},
     "output_type": "execute_result"
    }
   ],
   "source": [
    "text_prediction('It kills lots of people!')"
   ]
  },
  {
   "cell_type": "code",
   "execution_count": 41,
   "metadata": {},
   "outputs": [
    {
     "data": {
      "text/plain": [
       "'Not disaster post'"
      ]
     },
     "execution_count": 41,
     "metadata": {},
     "output_type": "execute_result"
    }
   ],
   "source": [
    "text_prediction('I wanna break up with you!')"
   ]
  },
  {
   "cell_type": "code",
   "execution_count": 42,
   "metadata": {},
   "outputs": [
    {
     "data": {
      "text/plain": [
       "'Not disaster post'"
      ]
     },
     "execution_count": 42,
     "metadata": {},
     "output_type": "execute_result"
    }
   ],
   "source": [
    "text_prediction('Year end sale! Yay!')"
   ]
  },
  {
   "cell_type": "code",
   "execution_count": 43,
   "metadata": {},
   "outputs": [
    {
     "data": {
      "text/plain": [
       "'Disaster post'"
      ]
     },
     "execution_count": 43,
     "metadata": {},
     "output_type": "execute_result"
    }
   ],
   "source": [
    "text_prediction('Whole city was destroyed by #sandstorm!')"
   ]
  }
 ],
 "metadata": {
  "kernelspec": {
   "display_name": "Python 3",
   "language": "python",
   "name": "python3"
  },
  "language_info": {
   "codemirror_mode": {
    "name": "ipython",
    "version": 3
   },
   "file_extension": ".py",
   "mimetype": "text/x-python",
   "name": "python",
   "nbconvert_exporter": "python",
   "pygments_lexer": "ipython3",
   "version": "3.8.5"
  }
 },
 "nbformat": 4,
 "nbformat_minor": 4
}
