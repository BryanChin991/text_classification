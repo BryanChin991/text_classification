{
 "cells": [
  {
   "cell_type": "markdown",
   "metadata": {},
   "source": [
    "# Introduction"
   ]
  },
  {
   "cell_type": "markdown",
   "metadata": {},
   "source": [
    "<p>Twitter has become an important communication channel in times of emergency.\n",
    "The ubiquitousness of smartphones enables people to announce an emergency they’re observing in real-time. Because of this, more agencies are interested in programatically monitoring Twitter (i.e. disaster relief organizations and news agencies).\n",
    "\n",
    "<h3> Objective </h3>\n",
    "<p>To build a machine learning model that predicts which Tweets are about real disasters and which one’s aren’t. </p>\n",
    "\n",
    "<h3> Steps for word tokenization</h3> <a id=\"0\"></a>\n",
    "\n",
    "1. [Identify URL in the test and remove it](#1)\n",
    "2. [Remove all punctuation](#2)\n",
    "3. [Remove stop words (the, a, an, in, ...)](#3)\n",
    "4. [Count unique words (collections)](#4)\n",
    "5. [Splitting training and validation set](#5)\n",
    "6. [Create word index](#6)\n",
    "7. [Replacing text into series of number](#7)\n",
    "8. [Make every sentences/ text same length](#8)\n",
    "9. [Reversing keys values in word index dict, for decoding later](#9)\n",
    "\n",
    "<h3> Model training </h3> <a id=\"0\"></a>\n",
    "\n",
    "10. [Create LSTM model](#10)\n",
    "11. [Naive Bayes Classifiers](#11)"
   ]
  },
  {
   "cell_type": "code",
   "execution_count": 1,
   "metadata": {},
   "outputs": [],
   "source": [
    "import pandas as pd\n",
    "import numpy as np\n",
    "import os\n",
    "import matplotlib.pyplot as plt\n",
    "import seaborn as sns\n",
    "import re\n",
    "import string\n",
    "import nltk\n",
    "# nltk.download('stopwords')\n",
    "from nltk.corpus import stopwords\n",
    "from collections import Counter\n",
    "# Tokenize\n",
    "from tensorflow import keras\n",
    "from tensorflow.keras.preprocessing.text import Tokenizer\n",
    "from tensorflow.keras.preprocessing.sequence import pad_sequences\n",
    "# create LSTM model\n",
    "from tensorflow.keras import layers\n",
    "from sklearn.metrics import confusion_matrix\n",
    "from sklearn.metrics import f1_score\n",
    "from sklearn.metrics import accuracy_score"
   ]
  },
  {
   "cell_type": "code",
   "execution_count": 2,
   "metadata": {},
   "outputs": [],
   "source": [
    "path = '/Users/Asus/Desktop/Unity Game/python/Data_Analysis/Text_Classification/dataset'\n",
    "\n",
    "train = pd.read_csv(os.path.join(path, 'train.csv'))\n",
    "test = pd.read_csv(os.path.join(path, 'test.csv'))\n",
    "submission = pd.read_csv(os.path.join(path, 'sample_submission.csv'))"
   ]
  },
  {
   "cell_type": "markdown",
   "metadata": {},
   "source": [
    "## First glance of data"
   ]
  },
  {
   "cell_type": "code",
   "execution_count": 3,
   "metadata": {},
   "outputs": [
    {
     "data": {
      "text/html": [
       "<div>\n",
       "<style scoped>\n",
       "    .dataframe tbody tr th:only-of-type {\n",
       "        vertical-align: middle;\n",
       "    }\n",
       "\n",
       "    .dataframe tbody tr th {\n",
       "        vertical-align: top;\n",
       "    }\n",
       "\n",
       "    .dataframe thead th {\n",
       "        text-align: right;\n",
       "    }\n",
       "</style>\n",
       "<table border=\"1\" class=\"dataframe\">\n",
       "  <thead>\n",
       "    <tr style=\"text-align: right;\">\n",
       "      <th></th>\n",
       "      <th>id</th>\n",
       "      <th>keyword</th>\n",
       "      <th>location</th>\n",
       "      <th>text</th>\n",
       "      <th>target</th>\n",
       "    </tr>\n",
       "  </thead>\n",
       "  <tbody>\n",
       "    <tr>\n",
       "      <th>0</th>\n",
       "      <td>1</td>\n",
       "      <td>NaN</td>\n",
       "      <td>NaN</td>\n",
       "      <td>Our Deeds are the Reason of this #earthquake M...</td>\n",
       "      <td>1</td>\n",
       "    </tr>\n",
       "    <tr>\n",
       "      <th>1</th>\n",
       "      <td>4</td>\n",
       "      <td>NaN</td>\n",
       "      <td>NaN</td>\n",
       "      <td>Forest fire near La Ronge Sask. Canada</td>\n",
       "      <td>1</td>\n",
       "    </tr>\n",
       "    <tr>\n",
       "      <th>2</th>\n",
       "      <td>5</td>\n",
       "      <td>NaN</td>\n",
       "      <td>NaN</td>\n",
       "      <td>All residents asked to 'shelter in place' are ...</td>\n",
       "      <td>1</td>\n",
       "    </tr>\n",
       "    <tr>\n",
       "      <th>3</th>\n",
       "      <td>6</td>\n",
       "      <td>NaN</td>\n",
       "      <td>NaN</td>\n",
       "      <td>13,000 people receive #wildfires evacuation or...</td>\n",
       "      <td>1</td>\n",
       "    </tr>\n",
       "    <tr>\n",
       "      <th>4</th>\n",
       "      <td>7</td>\n",
       "      <td>NaN</td>\n",
       "      <td>NaN</td>\n",
       "      <td>Just got sent this photo from Ruby #Alaska as ...</td>\n",
       "      <td>1</td>\n",
       "    </tr>\n",
       "  </tbody>\n",
       "</table>\n",
       "</div>"
      ],
      "text/plain": [
       "   id keyword location                                               text  \\\n",
       "0   1     NaN      NaN  Our Deeds are the Reason of this #earthquake M...   \n",
       "1   4     NaN      NaN             Forest fire near La Ronge Sask. Canada   \n",
       "2   5     NaN      NaN  All residents asked to 'shelter in place' are ...   \n",
       "3   6     NaN      NaN  13,000 people receive #wildfires evacuation or...   \n",
       "4   7     NaN      NaN  Just got sent this photo from Ruby #Alaska as ...   \n",
       "\n",
       "   target  \n",
       "0       1  \n",
       "1       1  \n",
       "2       1  \n",
       "3       1  \n",
       "4       1  "
      ]
     },
     "execution_count": 3,
     "metadata": {},
     "output_type": "execute_result"
    }
   ],
   "source": [
    "train.head()"
   ]
  },
  {
   "cell_type": "code",
   "execution_count": 4,
   "metadata": {},
   "outputs": [
    {
     "data": {
      "text/html": [
       "<div>\n",
       "<style scoped>\n",
       "    .dataframe tbody tr th:only-of-type {\n",
       "        vertical-align: middle;\n",
       "    }\n",
       "\n",
       "    .dataframe tbody tr th {\n",
       "        vertical-align: top;\n",
       "    }\n",
       "\n",
       "    .dataframe thead th {\n",
       "        text-align: right;\n",
       "    }\n",
       "</style>\n",
       "<table border=\"1\" class=\"dataframe\">\n",
       "  <thead>\n",
       "    <tr style=\"text-align: right;\">\n",
       "      <th></th>\n",
       "      <th>id</th>\n",
       "      <th>keyword</th>\n",
       "      <th>location</th>\n",
       "      <th>text</th>\n",
       "      <th>target</th>\n",
       "    </tr>\n",
       "  </thead>\n",
       "  <tbody>\n",
       "    <tr>\n",
       "      <th>count</th>\n",
       "      <td>7613.000000</td>\n",
       "      <td>7552</td>\n",
       "      <td>5080</td>\n",
       "      <td>7613</td>\n",
       "      <td>7613.00000</td>\n",
       "    </tr>\n",
       "    <tr>\n",
       "      <th>unique</th>\n",
       "      <td>NaN</td>\n",
       "      <td>221</td>\n",
       "      <td>3341</td>\n",
       "      <td>7503</td>\n",
       "      <td>NaN</td>\n",
       "    </tr>\n",
       "    <tr>\n",
       "      <th>top</th>\n",
       "      <td>NaN</td>\n",
       "      <td>fatalities</td>\n",
       "      <td>USA</td>\n",
       "      <td>11-Year-Old Boy Charged With Manslaughter of T...</td>\n",
       "      <td>NaN</td>\n",
       "    </tr>\n",
       "    <tr>\n",
       "      <th>freq</th>\n",
       "      <td>NaN</td>\n",
       "      <td>45</td>\n",
       "      <td>104</td>\n",
       "      <td>10</td>\n",
       "      <td>NaN</td>\n",
       "    </tr>\n",
       "    <tr>\n",
       "      <th>mean</th>\n",
       "      <td>5441.934848</td>\n",
       "      <td>NaN</td>\n",
       "      <td>NaN</td>\n",
       "      <td>NaN</td>\n",
       "      <td>0.42966</td>\n",
       "    </tr>\n",
       "    <tr>\n",
       "      <th>std</th>\n",
       "      <td>3137.116090</td>\n",
       "      <td>NaN</td>\n",
       "      <td>NaN</td>\n",
       "      <td>NaN</td>\n",
       "      <td>0.49506</td>\n",
       "    </tr>\n",
       "    <tr>\n",
       "      <th>min</th>\n",
       "      <td>1.000000</td>\n",
       "      <td>NaN</td>\n",
       "      <td>NaN</td>\n",
       "      <td>NaN</td>\n",
       "      <td>0.00000</td>\n",
       "    </tr>\n",
       "    <tr>\n",
       "      <th>25%</th>\n",
       "      <td>2734.000000</td>\n",
       "      <td>NaN</td>\n",
       "      <td>NaN</td>\n",
       "      <td>NaN</td>\n",
       "      <td>0.00000</td>\n",
       "    </tr>\n",
       "    <tr>\n",
       "      <th>50%</th>\n",
       "      <td>5408.000000</td>\n",
       "      <td>NaN</td>\n",
       "      <td>NaN</td>\n",
       "      <td>NaN</td>\n",
       "      <td>0.00000</td>\n",
       "    </tr>\n",
       "    <tr>\n",
       "      <th>75%</th>\n",
       "      <td>8146.000000</td>\n",
       "      <td>NaN</td>\n",
       "      <td>NaN</td>\n",
       "      <td>NaN</td>\n",
       "      <td>1.00000</td>\n",
       "    </tr>\n",
       "    <tr>\n",
       "      <th>max</th>\n",
       "      <td>10873.000000</td>\n",
       "      <td>NaN</td>\n",
       "      <td>NaN</td>\n",
       "      <td>NaN</td>\n",
       "      <td>1.00000</td>\n",
       "    </tr>\n",
       "  </tbody>\n",
       "</table>\n",
       "</div>"
      ],
      "text/plain": [
       "                  id     keyword location  \\\n",
       "count    7613.000000        7552     5080   \n",
       "unique           NaN         221     3341   \n",
       "top              NaN  fatalities      USA   \n",
       "freq             NaN          45      104   \n",
       "mean     5441.934848         NaN      NaN   \n",
       "std      3137.116090         NaN      NaN   \n",
       "min         1.000000         NaN      NaN   \n",
       "25%      2734.000000         NaN      NaN   \n",
       "50%      5408.000000         NaN      NaN   \n",
       "75%      8146.000000         NaN      NaN   \n",
       "max     10873.000000         NaN      NaN   \n",
       "\n",
       "                                                     text      target  \n",
       "count                                                7613  7613.00000  \n",
       "unique                                               7503         NaN  \n",
       "top     11-Year-Old Boy Charged With Manslaughter of T...         NaN  \n",
       "freq                                                   10         NaN  \n",
       "mean                                                  NaN     0.42966  \n",
       "std                                                   NaN     0.49506  \n",
       "min                                                   NaN     0.00000  \n",
       "25%                                                   NaN     0.00000  \n",
       "50%                                                   NaN     0.00000  \n",
       "75%                                                   NaN     1.00000  \n",
       "max                                                   NaN     1.00000  "
      ]
     },
     "execution_count": 4,
     "metadata": {},
     "output_type": "execute_result"
    }
   ],
   "source": [
    "train.describe(include='all')"
   ]
  },
  {
   "cell_type": "markdown",
   "metadata": {},
   "source": [
    "## Data shape"
   ]
  },
  {
   "cell_type": "code",
   "execution_count": 5,
   "metadata": {},
   "outputs": [
    {
     "name": "stdout",
     "output_type": "stream",
     "text": [
      "Shape of train data: (7613, 5),\n",
      "Shape of test data: (3263, 4)\n"
     ]
    }
   ],
   "source": [
    "print(f'Shape of train data: {train.shape},\\nShape of test data: {test.shape}')"
   ]
  },
  {
   "cell_type": "markdown",
   "metadata": {},
   "source": [
    "## Missing data"
   ]
  },
  {
   "cell_type": "code",
   "execution_count": 6,
   "metadata": {},
   "outputs": [
    {
     "name": "stdout",
     "output_type": "stream",
     "text": [
      "Missing value count:\n"
     ]
    },
    {
     "data": {
      "text/plain": [
       "id             0\n",
       "keyword       61\n",
       "location    2533\n",
       "text           0\n",
       "target         0\n",
       "dtype: int64"
      ]
     },
     "execution_count": 6,
     "metadata": {},
     "output_type": "execute_result"
    }
   ],
   "source": [
    "print('Missing value count:')\n",
    "train.isnull().sum()"
   ]
  },
  {
   "cell_type": "markdown",
   "metadata": {},
   "source": [
    "## Target distribution ratio"
   ]
  },
  {
   "cell_type": "code",
   "execution_count": 7,
   "metadata": {},
   "outputs": [
    {
     "name": "stdout",
     "output_type": "stream",
     "text": [
      "training dataset target (Disaster status) pie chart\n"
     ]
    },
    {
     "data": {
      "image/png": "[encoded data removed]",
      "text/plain": [
       "<Figure size 432x288 with 1 Axes>"
      ]
     },
     "metadata": {},
     "output_type": "display_data"
    }
   ],
   "source": [
    "target_class = {'Disaster' :(train.target == 1).sum(), 'No Disaster': (train.target == 0).sum()}\n",
    "print('training dataset target (Disaster status) pie chart')\n",
    "plt.pie(data = target_class, labels=target_class.keys(), x=target_class.values(), autopct='%.0f%%')\n",
    "plt.show()"
   ]
  },
  {
   "cell_type": "markdown",
   "metadata": {},
   "source": [
    "## Text data preprocessing"
   ]
  },
  {
   "cell_type": "code",
   "execution_count": 8,
   "metadata": {},
   "outputs": [
    {
     "name": "stdout",
     "output_type": "stream",
     "text": [
      "Original text before preprocessing:\n"
     ]
    },
    {
     "data": {
      "text/plain": [
       "0       Our Deeds are the Reason of this #earthquake M...\n",
       "1                  Forest fire near La Ronge Sask. Canada\n",
       "2       All residents asked to 'shelter in place' are ...\n",
       "3       13,000 people receive #wildfires evacuation or...\n",
       "4       Just got sent this photo from Ruby #Alaska as ...\n",
       "                              ...                        \n",
       "7608    Two giant cranes holding a bridge collapse int...\n",
       "7609    @aria_ahrary @TheTawniest The out of control w...\n",
       "7610    M1.94 [01:04 UTC]?5km S of Volcano Hawaii. htt...\n",
       "7611    Police investigating after an e-bike collided ...\n",
       "7612    The Latest: More Homes Razed by Northern Calif...\n",
       "Name: text, Length: 7613, dtype: object"
      ]
     },
     "execution_count": 8,
     "metadata": {},
     "output_type": "execute_result"
    }
   ],
   "source": [
    "print('Original text before preprocessing:')\n",
    "train.text"
   ]
  },
  {
   "cell_type": "markdown",
   "metadata": {},
   "source": [
    "<a id=\"1\"></a>\n",
    "### - Identify URL in the test and remove it\n",
    "\n",
    "[Back to top](#0)"
   ]
  },
  {
   "cell_type": "code",
   "execution_count": 9,
   "metadata": {},
   "outputs": [
    {
     "name": "stdout",
     "output_type": "stream",
     "text": [
      "Original text with URL (first 5 text):\n"
     ]
    },
    {
     "data": {
      "text/plain": [
       "['@bbcmtd Wholesale Markets ablaze http://t.co/lHYXEOHY6C',\n",
       " 'We always try to bring the heavy. #metal #RT http://t.co/YAo1e0xngw',\n",
       " '#AFRICANBAZE: Breaking news:Nigeria flag set ablaze in Aba. http://t.co/2nndBGwyEi',\n",
       " 'On plus side LOOK AT THE SKY LAST NIGHT IT WAS ABLAZE http://t.co/qqsmshaJ3N',\n",
       " 'INEC Office in Abia Set Ablaze - http://t.co/3ImaomknnA']"
      ]
     },
     "execution_count": 9,
     "metadata": {},
     "output_type": "execute_result"
    }
   ],
   "source": [
    "print('Original text with URL (first 5 text):')\n",
    "[txt for txt in train.text if 'http:' in txt or 'www.' in txt][:5]"
   ]
  },
  {
   "cell_type": "code",
   "execution_count": 10,
   "metadata": {},
   "outputs": [
    {
     "name": "stdout",
     "output_type": "stream",
     "text": [
      "All the URL link has been removed\n"
     ]
    },
    {
     "data": {
      "text/plain": [
       "[]"
      ]
     },
     "execution_count": 10,
     "metadata": {},
     "output_type": "execute_result"
    }
   ],
   "source": [
    "def remove_url(text):\n",
    "    url = re.compile(r'https?://\\S+|www\\.\\S+')\n",
    "    return url.sub(r'', text)\n",
    "\n",
    "# for train dataset\n",
    "train['text_cleaned'] = train.text.apply(lambda x: remove_url(x))\n",
    "# for test dataset\n",
    "test['text_cleaned'] = test.text.apply(lambda x: remove_url(x))\n",
    "\n",
    "print('All the URL link has been removed')\n",
    "[txt for txt in train.text_cleaned if 'http:' in txt or 'www.' in txt][:]"
   ]
  },
  {
   "cell_type": "markdown",
   "metadata": {},
   "source": [
    "<a id=\"2\"></a>\n",
    "\n",
    "### - Remove all punctuation\n",
    "\n",
    "[Back to top](#0)"
   ]
  },
  {
   "cell_type": "code",
   "execution_count": 11,
   "metadata": {},
   "outputs": [
    {
     "data": {
      "text/plain": [
       "0       Our Deeds are the Reason of this earthquake Ma...\n",
       "1                   Forest fire near La Ronge Sask Canada\n",
       "2       All residents asked to shelter in place are be...\n",
       "3       13000 people receive wildfires evacuation orde...\n",
       "4       Just got sent this photo from Ruby Alaska as s...\n",
       "                              ...                        \n",
       "7608    Two giant cranes holding a bridge collapse int...\n",
       "7609    ariaahrary TheTawniest The out of control wild...\n",
       "7610                M194 0104 UTC5km S of Volcano Hawaii \n",
       "7611    Police investigating after an ebike collided w...\n",
       "7612    The Latest More Homes Razed by Northern Califo...\n",
       "Name: text_cleaned, Length: 7613, dtype: object"
      ]
     },
     "execution_count": 11,
     "metadata": {},
     "output_type": "execute_result"
    }
   ],
   "source": [
    "# train dataset\n",
    "train['text_cleaned'] = train.text_cleaned.apply(lambda x: x.translate(x.maketrans('', '', string.punctuation)))\n",
    "# test dataset\n",
    "test['text_cleaned'] = test.text_cleaned.apply(lambda x: x.translate(x.maketrans('', '', string.punctuation)))\n",
    "train['text_cleaned']"
   ]
  },
  {
   "cell_type": "markdown",
   "metadata": {},
   "source": [
    "<a id=\"3\"></a>\n",
    "### - Remove stop words (<i>the</i>, <i>a</i>, <i>an</i>, <i>in</i>, ...)\n",
    "\n",
    "[Back to top](#0)"
   ]
  },
  {
   "cell_type": "code",
   "execution_count": 12,
   "metadata": {},
   "outputs": [
    {
     "data": {
      "text/plain": [
       "0            deeds reason earthquake may allah forgive us\n",
       "1                   forest fire near la ronge sask canada\n",
       "2       residents asked shelter place notified officer...\n",
       "3       13000 people receive wildfires evacuation orde...\n",
       "4       got sent photo ruby alaska smoke wildfires pou...\n",
       "                              ...                        \n",
       "7608    two giant cranes holding bridge collapse nearb...\n",
       "7609    ariaahrary thetawniest control wild fires cali...\n",
       "7610                      m194 0104 utc5km volcano hawaii\n",
       "7611    police investigating ebike collided car little...\n",
       "7612    latest homes razed northern california wildfir...\n",
       "Name: text_cleaned, Length: 7613, dtype: object"
      ]
     },
     "execution_count": 12,
     "metadata": {},
     "output_type": "execute_result"
    }
   ],
   "source": [
    "#  get all the stop words\n",
    "stop = set(stopwords.words('english'))\n",
    "# remove it\n",
    "train['text_cleaned'] = train.text_cleaned.apply(lambda x: ' '.join([word.lower() for word in x.split() if word.lower() not in stop]))\n",
    "test['text_cleaned'] = test.text_cleaned.apply(lambda x: ' '.join([word.lower() for word in x.split() if word.lower() not in stop]))\n",
    "train['text_cleaned']"
   ]
  },
  {
   "cell_type": "markdown",
   "metadata": {},
   "source": [
    "<a id=\"4\"></a>\n",
    "### - Count unique words\n",
    "[Back to top](#0)"
   ]
  },
  {
   "cell_type": "markdown",
   "metadata": {},
   "source": [
    "<p> Using Counter from collection to count unique word</p>"
   ]
  },
  {
   "cell_type": "code",
   "execution_count": 13,
   "metadata": {},
   "outputs": [
    {
     "name": "stdout",
     "output_type": "stream",
     "text": [
      "Total number of words : 17971\n",
      "Most common words found: [('like', 345), ('im', 299), ('amp', 298), ('fire', 250), ('get', 229)]\n"
     ]
    }
   ],
   "source": [
    "def count_word(text):\n",
    "    count = Counter()\n",
    "    for txt in text:\n",
    "        for word in txt.split():\n",
    "            # save word and put in dict\n",
    "            count[word] +=1\n",
    "    return count\n",
    "        \n",
    "counter_train = count_word(train.text_cleaned)\n",
    "counter_test = count_word(test.text_cleaned)\n",
    "num_unique_word = len(counter_train)\n",
    "\n",
    "print(f'Total number of words : {num_unique_word}')\n",
    "print(f'Most common words found: {counter_train.most_common(5)}')"
   ]
  },
  {
   "cell_type": "markdown",
   "metadata": {},
   "source": [
    "<a id=\"5\"></a>\n",
    "## Splitting training and validation set\n",
    "[Back to top](#0)"
   ]
  },
  {
   "cell_type": "code",
   "execution_count": 14,
   "metadata": {},
   "outputs": [
    {
     "name": "stdout",
     "output_type": "stream",
     "text": [
      "Training set shape: 6090\n",
      "Validation set shape: 1523\n"
     ]
    }
   ],
   "source": [
    "#  int to round off\n",
    "train_size = int(train.shape[0] * 0.8)\n",
    "\n",
    "# convert to numpy array\n",
    "X_train = train.text_cleaned[:train_size].to_numpy()\n",
    "y_train = train.target[:train_size].to_numpy()\n",
    "X_valid = train.text_cleaned[train_size:].to_numpy()\n",
    "y_valid = train.target[train_size:].to_numpy()\n",
    "test_data = test.text_cleaned.to_numpy()\n",
    "\n",
    "print(f'Training set shape: {len(X_train)}\\nValidation set shape: {len(X_valid)}')"
   ]
  },
  {
   "cell_type": "markdown",
   "metadata": {},
   "source": [
    "<a id=\"6\"></a>\n",
    "## Vectorize a text corpus (truning text into sequence of integers)\n",
    " [Back to top](#0)"
   ]
  },
  {
   "cell_type": "code",
   "execution_count": 15,
   "metadata": {},
   "outputs": [
    {
     "name": "stdout",
     "output_type": "stream",
     "text": [
      "Word index dict:\n"
     ]
    },
    {
     "data": {
      "text/plain": [
       "{'like': 1,\n",
       " 'amp': 2,\n",
       " 'fire': 3,\n",
       " 'im': 4,\n",
       " 'get': 5,\n",
       " 'via': 6,\n",
       " 'new': 7,\n",
       " 'people': 8,\n",
       " 'news': 9,\n",
       " 'dont': 10,\n",
       " 'emergency': 11,\n",
       " 'one': 12,\n",
       " '2': 13,\n",
       " 'us': 14,\n",
       " 'video': 15,\n",
       " 'disaster': 16,\n",
       " 'burning': 17,\n",
       " 'body': 18,\n",
       " 'would': 19,\n",
       " 'buildings': 20,\n",
       " 'police': 21,\n",
       " 'crash': 22,\n",
       " 'first': 23,\n",
       " 'california': 24,\n",
       " 'still': 25,\n",
       " 'man': 26,\n",
       " 'got': 27,\n",
       " 'know': 28,\n",
       " 'day': 29,\n",
       " 'back': 30,\n",
       " 'going': 31,\n",
       " 'two': 32,\n",
       " 'time': 33,\n",
       " 'full': 34,\n",
       " 'accident': 35,\n",
       " 'see': 36,\n",
       " 'world': 37,\n",
       " 'attack': 38,\n",
       " 'nuclear': 39,\n",
       " 'youtube': 40,\n",
       " 'may': 41,\n",
       " 'love': 42,\n",
       " 'go': 43,\n",
       " 'rt': 44,\n",
       " 'many': 45,\n",
       " 'cant': 46,\n",
       " '3': 47,\n",
       " 'watch': 48,\n",
       " 'collapse': 49,\n",
       " 'dead': 50,\n",
       " 'today': 51,\n",
       " 'car': 52,\n",
       " 'mass': 53,\n",
       " 'want': 54,\n",
       " 'years': 55,\n",
       " 'work': 56,\n",
       " 'train': 57,\n",
       " 'last': 58,\n",
       " 'good': 59,\n",
       " 'think': 60,\n",
       " 'families': 61,\n",
       " 'hiroshima': 62,\n",
       " 'life': 63,\n",
       " 'fires': 64,\n",
       " 'best': 65,\n",
       " 'could': 66,\n",
       " 'say': 67,\n",
       " 'u': 68,\n",
       " 'death': 69,\n",
       " 'hot': 70,\n",
       " 'forest': 71,\n",
       " 'way': 72,\n",
       " 'killed': 73,\n",
       " 'need': 74,\n",
       " 'legionnaires': 75,\n",
       " 'war': 76,\n",
       " 'fatal': 77,\n",
       " 'home': 78,\n",
       " 'black': 79,\n",
       " '4': 80,\n",
       " 'really': 81,\n",
       " 'take': 82,\n",
       " 'another': 83,\n",
       " 'right': 84,\n",
       " 'even': 85,\n",
       " 'flames': 86,\n",
       " 'make': 87,\n",
       " 'fear': 88,\n",
       " 'bomb': 89,\n",
       " 'floods': 90,\n",
       " 'school': 91,\n",
       " 'youre': 92,\n",
       " '1': 93,\n",
       " 'atomic': 94,\n",
       " 'look': 95,\n",
       " 'please': 96,\n",
       " 'let': 97,\n",
       " 'homes': 98,\n",
       " 'flood': 99,\n",
       " 'every': 100,\n",
       " 'help': 101,\n",
       " 'latest': 102,\n",
       " 'year': 103,\n",
       " 'storm': 104,\n",
       " 'content': 105,\n",
       " '5': 106,\n",
       " 'injured': 107,\n",
       " 'read': 108,\n",
       " '2015': 109,\n",
       " 'oil': 110,\n",
       " 'damage': 111,\n",
       " 'truck': 112,\n",
       " 'city': 113,\n",
       " 'lol': 114,\n",
       " 'water': 115,\n",
       " 'evacuation': 116,\n",
       " 'flooding': 117,\n",
       " 'much': 118,\n",
       " 'debris': 119,\n",
       " 'army': 120,\n",
       " 'japan': 121,\n",
       " 'never': 122,\n",
       " 'military': 123,\n",
       " 'northern': 124,\n",
       " 'ass': 125,\n",
       " 'cross': 126,\n",
       " 'top': 127,\n",
       " 'come': 128,\n",
       " 'near': 129,\n",
       " '\\x89û': 130,\n",
       " 'hit': 131,\n",
       " 'shit': 132,\n",
       " 'next': 133,\n",
       " 'great': 134,\n",
       " 'food': 135,\n",
       " 'plan': 136,\n",
       " 'reddit': 137,\n",
       " 'getting': 138,\n",
       " 'set': 139,\n",
       " 'night': 140,\n",
       " 'screaming': 141,\n",
       " 'found': 142,\n",
       " 'little': 143,\n",
       " 'services': 144,\n",
       " 'wildfire': 145,\n",
       " 'natural': 146,\n",
       " 'stop': 147,\n",
       " 'bloody': 148,\n",
       " 'murder': 149,\n",
       " 'since': 150,\n",
       " 'feel': 151,\n",
       " 'bags': 152,\n",
       " 'spill': 153,\n",
       " 'injuries': 154,\n",
       " 'refugees': 155,\n",
       " 'heat': 156,\n",
       " 'always': 157,\n",
       " 'god': 158,\n",
       " 'ever': 159,\n",
       " 'face': 160,\n",
       " 'times': 161,\n",
       " 'destroy': 162,\n",
       " 'said': 163,\n",
       " 'well': 164,\n",
       " 'thats': 165,\n",
       " 'fall': 166,\n",
       " 'evacuate': 167,\n",
       " 'derailment': 168,\n",
       " 'panic': 169,\n",
       " 'outbreak': 170,\n",
       " 'check': 171,\n",
       " 'everyone': 172,\n",
       " 'explosion': 173,\n",
       " 'family': 174,\n",
       " 'attacked': 175,\n",
       " 'rescue': 176,\n",
       " 'deaths': 177,\n",
       " 'fatalities': 178,\n",
       " 'sinkhole': 179,\n",
       " 'coming': 180,\n",
       " 'ambulance': 181,\n",
       " 'blood': 182,\n",
       " 'hurricane': 183,\n",
       " 'bridge': 184,\n",
       " 'explode': 185,\n",
       " 'collided': 186,\n",
       " 'loud': 187,\n",
       " 'live': 188,\n",
       " 'gonna': 189,\n",
       " 'burned': 190,\n",
       " 'air': 191,\n",
       " 'weather': 192,\n",
       " 'destruction': 193,\n",
       " 'boy': 194,\n",
       " 'hope': 195,\n",
       " 'destroyed': 196,\n",
       " 'bag': 197,\n",
       " 'ruin': 198,\n",
       " 'rescued': 199,\n",
       " 'injury': 200,\n",
       " 'fucking': 201,\n",
       " 'free': 202,\n",
       " 'cause': 203,\n",
       " 'bad': 204,\n",
       " 'armageddon': 205,\n",
       " 'hail': 206,\n",
       " 'says': 207,\n",
       " 'wind': 208,\n",
       " 'rescuers': 209,\n",
       " 'catastrophe': 210,\n",
       " 'collapsed': 211,\n",
       " 'harm': 212,\n",
       " 'landslide': 213,\n",
       " 'curfew': 214,\n",
       " 'deluge': 215,\n",
       " 'migrants': 216,\n",
       " 'dust': 217,\n",
       " 'hostages': 218,\n",
       " 'mudslide': 219,\n",
       " 'sandstorm': 220,\n",
       " 'w': 221,\n",
       " '70': 222,\n",
       " 'save': 223,\n",
       " 'charged': 224,\n",
       " 'lives': 225,\n",
       " 'rioting': 226,\n",
       " 'riot': 227,\n",
       " 'drought': 228,\n",
       " 'danger': 229,\n",
       " 'drowning': 230,\n",
       " 'engulfed': 231,\n",
       " 'screamed': 232,\n",
       " 'massacre': 233,\n",
       " 'quarantined': 234,\n",
       " 'earthquake': 235,\n",
       " 'theres': 236,\n",
       " 'summer': 237,\n",
       " '40': 238,\n",
       " 'also': 239,\n",
       " 'crashed': 240,\n",
       " 'house': 241,\n",
       " 'liked': 242,\n",
       " 'post': 243,\n",
       " 'bleeding': 244,\n",
       " 'bombed': 245,\n",
       " 'hazard': 246,\n",
       " 'displaced': 247,\n",
       " 'service': 248,\n",
       " 'hazardous': 249,\n",
       " 'cliff': 250,\n",
       " 'crush': 251,\n",
       " 'derail': 252,\n",
       " 'devastation': 253,\n",
       " 'inundated': 254,\n",
       " 'quarantine': 255,\n",
       " 'ive': 256,\n",
       " 'end': 257,\n",
       " 'road': 258,\n",
       " 'airplane': 259,\n",
       " 'looks': 260,\n",
       " 'change': 261,\n",
       " 'high': 262,\n",
       " 'real': 263,\n",
       " 'missing': 264,\n",
       " 'battle': 265,\n",
       " 'fedex': 266,\n",
       " 'keep': 267,\n",
       " 'report': 268,\n",
       " 'lightning': 269,\n",
       " 'blown': 270,\n",
       " 'casualties': 271,\n",
       " 'hundreds': 272,\n",
       " 'desolation': 273,\n",
       " 'electrocuted': 274,\n",
       " 'exploded': 275,\n",
       " 'famine': 276,\n",
       " 'lava': 277,\n",
       " 'around': 278,\n",
       " '\\x89ûò': 279,\n",
       " 'hes': 280,\n",
       " 'things': 281,\n",
       " 'bombing': 282,\n",
       " 'made': 283,\n",
       " 'bioterror': 284,\n",
       " 'hostage': 285,\n",
       " 'blew': 286,\n",
       " 'drown': 287,\n",
       " 'anniversary': 288,\n",
       " 'chemical': 289,\n",
       " 'collide': 290,\n",
       " 'derailed': 291,\n",
       " 'detonate': 292,\n",
       " 'flattened': 293,\n",
       " 'bang': 294,\n",
       " 'panicking': 295,\n",
       " 'rain': 296,\n",
       " 'wave': 297,\n",
       " 'ill': 298,\n",
       " 'game': 299,\n",
       " 'meltdown': 300,\n",
       " 'iran': 301,\n",
       " 'without': 302,\n",
       " 'apocalypse': 303,\n",
       " 'big': 304,\n",
       " 'obama': 305,\n",
       " 'market': 306,\n",
       " 'boat': 307,\n",
       " 'mh370': 308,\n",
       " 'hijacker': 309,\n",
       " 'hijacking': 310,\n",
       " 'screams': 311,\n",
       " 'breaking': 312,\n",
       " 'head': 313,\n",
       " 'past': 314,\n",
       " 'someone': 315,\n",
       " 'state': 316,\n",
       " 'run': 317,\n",
       " 'annihilated': 318,\n",
       " 'away': 319,\n",
       " 'girl': 320,\n",
       " 'white': 321,\n",
       " 'story': 322,\n",
       " 'twitter': 323,\n",
       " 'longer': 324,\n",
       " 'put': 325,\n",
       " 'bagging': 326,\n",
       " 'affected': 327,\n",
       " 'responders': 328,\n",
       " 'collision': 329,\n",
       " 'demolish': 330,\n",
       " 'detonation': 331,\n",
       " 'evacuated': 332,\n",
       " 'obliterated': 333,\n",
       " 'pandemonium': 334,\n",
       " 'area': 335,\n",
       " 'bus': 336,\n",
       " 'tonight': 337,\n",
       " 'came': 338,\n",
       " 'reunion': 339,\n",
       " 'island': 340,\n",
       " 'national': 341,\n",
       " 'show': 342,\n",
       " 'arson': 343,\n",
       " 'woman': 344,\n",
       " 'women': 345,\n",
       " 'shoulder': 346,\n",
       " 'send': 347,\n",
       " 'crushed': 348,\n",
       " 'blast': 349,\n",
       " 'demolished': 350,\n",
       " 'demolition': 351,\n",
       " 'drowned': 352,\n",
       " 'fatality': 353,\n",
       " 'prebreak': 354,\n",
       " 'obliterate': 355,\n",
       " 'obliteration': 356,\n",
       " 'razed': 357,\n",
       " 'photo': 358,\n",
       " 'update': 359,\n",
       " 'week': 360,\n",
       " 'better': 361,\n",
       " 'traffic': 362,\n",
       " 'heard': 363,\n",
       " 'ebay': 364,\n",
       " 'went': 365,\n",
       " 'id': 366,\n",
       " 'fan': 367,\n",
       " 'blazing': 368,\n",
       " 'catastrophic': 369,\n",
       " 'eyewitness': 370,\n",
       " 'hellfire': 371,\n",
       " 'murderer': 372,\n",
       " 'due': 373,\n",
       " 'county': 374,\n",
       " 'ablaze': 375,\n",
       " 'st': 376,\n",
       " 'least': 377,\n",
       " 'pm': 378,\n",
       " 'horrible': 379,\n",
       " 'left': 380,\n",
       " 'possible': 381,\n",
       " 'call': 382,\n",
       " 'river': 383,\n",
       " 'long': 384,\n",
       " 'fuck': 385,\n",
       " 'power': 386,\n",
       " 'light': 387,\n",
       " 'land': 388,\n",
       " 'baby': 389,\n",
       " 'cyclone': 390,\n",
       " 'electrocute': 391,\n",
       " 'hijack': 392,\n",
       " 'sue': 393,\n",
       " 'rainstorm': 394,\n",
       " 'died': 395,\n",
       " 'cool': 396,\n",
       " 'care': 397,\n",
       " 'use': 398,\n",
       " 'goes': 399,\n",
       " 'government': 400,\n",
       " 'airport': 401,\n",
       " 'believe': 402,\n",
       " 'phone': 403,\n",
       " 'kill': 404,\n",
       " 'group': 405,\n",
       " 'lab': 406,\n",
       " 'oh': 407,\n",
       " 'song': 408,\n",
       " 'policy': 409,\n",
       " 'stock': 410,\n",
       " 'far': 411,\n",
       " 'thank': 412,\n",
       " 'minute': 413,\n",
       " 'brown': 414,\n",
       " 'wake': 415,\n",
       " 'thought': 416,\n",
       " 'red': 417,\n",
       " 'heart': 418,\n",
       " '8': 419,\n",
       " 'sound': 420,\n",
       " 'avalanche': 421,\n",
       " 'calgary': 422,\n",
       " 'health': 423,\n",
       " 're\\x89û': 424,\n",
       " 'nearby': 425,\n",
       " 'bush': 426,\n",
       " 'casualty': 427,\n",
       " '6': 428,\n",
       " 'deluged': 429,\n",
       " 'seismic': 430,\n",
       " 'reactor': 431,\n",
       " 'building': 432,\n",
       " 'whats': 433,\n",
       " 'used': 434,\n",
       " 'something': 435,\n",
       " 'didnt': 436,\n",
       " '9': 437,\n",
       " 'plans': 438,\n",
       " 'shooting': 439,\n",
       " 'thing': 440,\n",
       " 'play': 441,\n",
       " 'must': 442,\n",
       " 'whole': 443,\n",
       " 'tomorrow': 444,\n",
       " 'part': 445,\n",
       " 'officials': 446,\n",
       " 'india': 447,\n",
       " 'music': 448,\n",
       " 'nothing': 449,\n",
       " 'blight': 450,\n",
       " 'ur': 451,\n",
       " 'rubble': 452,\n",
       " 'swallowed': 453,\n",
       " 'thanks': 454,\n",
       " 'issues': 455,\n",
       " 'done': 456,\n",
       " 'bc': 457,\n",
       " 'soon': 458,\n",
       " 'start': 459,\n",
       " 'children': 460,\n",
       " 'business': 461,\n",
       " 'yet': 462,\n",
       " 'sure': 463,\n",
       " 'bioterrorism': 464,\n",
       " 'wanna': 465,\n",
       " 'old': 466,\n",
       " 'half': 467,\n",
       " 'bigger': 468,\n",
       " 'rise': 469,\n",
       " 'south': 470,\n",
       " 'tell': 471,\n",
       " 'support': 472,\n",
       " 'already': 473,\n",
       " 'die': 474,\n",
       " 'men': 475,\n",
       " 'aircraft': 476,\n",
       " 'wont': 477,\n",
       " 'bar': 478,\n",
       " 'peace': 479,\n",
       " 'data': 480,\n",
       " 'pick': 481,\n",
       " 'amid': 482,\n",
       " 'anything': 483,\n",
       " 'stay': 484,\n",
       " 'media': 485,\n",
       " 'remember': 486,\n",
       " 'deal': 487,\n",
       " '7': 488,\n",
       " 'transport': 489,\n",
       " 'doesnt': 490,\n",
       " 'searching': 491,\n",
       " 'effect': 492,\n",
       " 'manslaughter': 493,\n",
       " 'projected': 494,\n",
       " 'place': 495,\n",
       " '30': 496,\n",
       " 'kids': 497,\n",
       " 'n': 498,\n",
       " 'actually': 499,\n",
       " 'making': 500,\n",
       " 'job': 501,\n",
       " 'almost': 502,\n",
       " 'plane': 503,\n",
       " 'ago': 504,\n",
       " 'feared': 505,\n",
       " 'ok': 506,\n",
       " 'lot': 507,\n",
       " 'annihilation': 508,\n",
       " 'warning': 509,\n",
       " 'crisis': 510,\n",
       " 'blaze': 511,\n",
       " 'yeah': 512,\n",
       " 'trying': 513,\n",
       " 'yes': 514,\n",
       " 'lets': 515,\n",
       " 'line': 516,\n",
       " 'probably': 517,\n",
       " 'bodies': 518,\n",
       " 'desolate': 519,\n",
       " 'three': 520,\n",
       " 'wait': 521,\n",
       " 'days': 522,\n",
       " 'flag': 523,\n",
       " 'leave': 524,\n",
       " 'north': 525,\n",
       " 'gets': 526,\n",
       " 'jobs': 527,\n",
       " 'helicopter': 528,\n",
       " 'history': 529,\n",
       " 'fun': 530,\n",
       " 'order': 531,\n",
       " 'august': 532,\n",
       " 'movie': 533,\n",
       " 'womens': 534,\n",
       " 'leather': 535,\n",
       " 'american': 536,\n",
       " 'makes': 537,\n",
       " 'youth': 538,\n",
       " 'literally': 539,\n",
       " 'person': 540,\n",
       " 'guys': 541,\n",
       " 'photos': 542,\n",
       " 'saved': 543,\n",
       " 'waves': 544,\n",
       " '11yearold': 545,\n",
       " 'hat': 546,\n",
       " 'refugio': 547,\n",
       " 'costlier': 548,\n",
       " 'offensive': 549,\n",
       " '20': 550,\n",
       " 'inside': 551,\n",
       " 'shot': 552,\n",
       " 'rd': 553,\n",
       " '12': 554,\n",
       " 'everything': 555,\n",
       " 'ball': 556,\n",
       " 'case': 557,\n",
       " 'hell': 558,\n",
       " 'stand': 559,\n",
       " 'hours': 560,\n",
       " 'tv': 561,\n",
       " 'israeli': 562,\n",
       " 'beautiful': 563,\n",
       " 'anthrax': 564,\n",
       " 'computers': 565,\n",
       " 'angry': 566,\n",
       " 'trains': 567,\n",
       " 'malaysia': 568,\n",
       " 'abc': 569,\n",
       " 'banned': 570,\n",
       " 'ignition': 571,\n",
       " 'knock': 572,\n",
       " 'picking': 573,\n",
       " 'hailstorm': 574,\n",
       " 'mayhem': 575,\n",
       " 'la': 576,\n",
       " 'street': 577,\n",
       " '\\x89ûó': 578,\n",
       " 'finally': 579,\n",
       " 'aftershock': 580,\n",
       " 'anyone': 581,\n",
       " 'sorry': 582,\n",
       " 'maybe': 583,\n",
       " 'hey': 584,\n",
       " 'child': 585,\n",
       " 'totally': 586,\n",
       " 'toddler': 587,\n",
       " 'saw': 588,\n",
       " 'town': 589,\n",
       " 'fukushima': 590,\n",
       " '50': 591,\n",
       " 'mishaps': 592,\n",
       " 'move': 593,\n",
       " 'blizzard': 594,\n",
       " 'money': 595,\n",
       " 'ladies': 596,\n",
       " 'appears': 597,\n",
       " 'russian': 598,\n",
       " 'giant': 599,\n",
       " 'centre': 600,\n",
       " 'village': 601,\n",
       " '60': 602,\n",
       " 'houses': 603,\n",
       " 'crews': 604,\n",
       " 'caused': 605,\n",
       " 'course': 606,\n",
       " 'severe': 607,\n",
       " 'disea': 608,\n",
       " 'closed': 609,\n",
       " 'heavy': 610,\n",
       " 'second': 611,\n",
       " 'myanmar': 612,\n",
       " 'try': 613,\n",
       " 'arsonist': 614,\n",
       " 'center': 615,\n",
       " 'vehicle': 616,\n",
       " 'guy': 617,\n",
       " 'might': 618,\n",
       " 'eyes': 619,\n",
       " 'shes': 620,\n",
       " 'omg': 621,\n",
       " 'couple': 622,\n",
       " 'vs': 623,\n",
       " 'self': 624,\n",
       " 'fight': 625,\n",
       " 'name': 626,\n",
       " 'b': 627,\n",
       " 'class': 628,\n",
       " 'friend': 629,\n",
       " 'team': 630,\n",
       " 'temple': 631,\n",
       " 'space': 632,\n",
       " 'germs': 633,\n",
       " 'words': 634,\n",
       " '25': 635,\n",
       " 'find': 636,\n",
       " 'drake': 637,\n",
       " 'meek': 638,\n",
       " 'marks': 639,\n",
       " 'downtown': 640,\n",
       " 'memories': 641,\n",
       " 'devastated': 642,\n",
       " 'flash': 643,\n",
       " 'lost': 644,\n",
       " 'cars': 645,\n",
       " 'lord': 646,\n",
       " 'outside': 647,\n",
       " 'hard': 648,\n",
       " 'others': 649,\n",
       " 'front': 650,\n",
       " 'nowplaying': 651,\n",
       " 'mom': 652,\n",
       " 'win': 653,\n",
       " 'daily': 654,\n",
       " 'experts': 655,\n",
       " 'theyre': 656,\n",
       " 'official': 657,\n",
       " 'hate': 658,\n",
       " 'usa': 659,\n",
       " '10': 660,\n",
       " 'united': 661,\n",
       " 'mop': 662,\n",
       " 'beach': 663,\n",
       " 'reports': 664,\n",
       " 'hiring': 665,\n",
       " 'theater': 666,\n",
       " 'gun': 667,\n",
       " 'christian': 668,\n",
       " 'muslims': 669,\n",
       " 'listen': 670,\n",
       " 'star': 671,\n",
       " 'eye': 672,\n",
       " 'taken': 673,\n",
       " 'action': 674,\n",
       " 'nearly': 675,\n",
       " 'mad': 676,\n",
       " 'cake': 677,\n",
       " 'level': 678,\n",
       " 'pay': 679,\n",
       " 'though': 680,\n",
       " 'link': 681,\n",
       " 'morning': 682,\n",
       " 'watching': 683,\n",
       " 'outrage': 684,\n",
       " 'gbbo': 685,\n",
       " 'friends': 686,\n",
       " 'takes': 687,\n",
       " 'former': 688,\n",
       " 'madhya': 689,\n",
       " 'pradesh': 690,\n",
       " 'led': 691,\n",
       " 'gems': 692,\n",
       " 'funtenna': 693,\n",
       " 'reddits': 694,\n",
       " 'subreddits': 695,\n",
       " 'reason': 696,\n",
       " 'across': 697,\n",
       " 'fast': 698,\n",
       " 'side': 699,\n",
       " 'west': 700,\n",
       " 'thousands': 701,\n",
       " 'r': 702,\n",
       " 'climate': 703,\n",
       " 'else': 704,\n",
       " 'huge': 705,\n",
       " 'reported': 706,\n",
       " 'property': 707,\n",
       " 'happened': 708,\n",
       " 'moment': 709,\n",
       " 'book': 710,\n",
       " 'dog': 711,\n",
       " 'seen': 712,\n",
       " 'park': 713,\n",
       " 'major': 714,\n",
       " 'disease': 715,\n",
       " 'hand': 716,\n",
       " 'govt': 717,\n",
       " 'till': 718,\n",
       " 'blue': 719,\n",
       " 'date': 720,\n",
       " 'control': 721,\n",
       " 'caught': 722,\n",
       " 'east': 723,\n",
       " 'green': 724,\n",
       " 'militants': 725,\n",
       " 'damn': 726,\n",
       " 'bombs': 727,\n",
       " 'mount': 728,\n",
       " 'pamela': 729,\n",
       " 'needs': 730,\n",
       " 'playing': 731,\n",
       " 'running': 732,\n",
       " 'tweet': 733,\n",
       " 'low': 734,\n",
       " 'wow': 735,\n",
       " 'fashion': 736,\n",
       " 'pray': 737,\n",
       " 'camp': 738,\n",
       " 'hear': 739,\n",
       " 'chance': 740,\n",
       " 'patience': 741,\n",
       " 'lamp': 742,\n",
       " 'bayelsa': 743,\n",
       " 'parole': 744,\n",
       " 'unconfirmed': 745,\n",
       " 'neighbours': 746,\n",
       " 'chinas': 747,\n",
       " 'colorado': 748,\n",
       " 'haha': 749,\n",
       " 'bring': 750,\n",
       " 'awesome': 751,\n",
       " 'wanted': 752,\n",
       " 'happy': 753,\n",
       " 'america': 754,\n",
       " 'drive': 755,\n",
       " 'france': 756,\n",
       " 'pakistani': 757,\n",
       " 'trust': 758,\n",
       " 'israel': 759,\n",
       " 'potus': 760,\n",
       " 'sign': 761,\n",
       " 'following': 762,\n",
       " 'poor': 763,\n",
       " 'film': 764,\n",
       " 'comes': 765,\n",
       " 'escape': 766,\n",
       " 'gt': 767,\n",
       " 'russia': 768,\n",
       " 'isnt': 769,\n",
       " '100': 770,\n",
       " 'learn': 771,\n",
       " 'arrested': 772,\n",
       " 'true': 773,\n",
       " 'waving': 774,\n",
       " 'geller': 775,\n",
       " 'worst': 776,\n",
       " 'ebola': 777,\n",
       " 'enough': 778,\n",
       " 'dude': 779,\n",
       " 'pain': 780,\n",
       " 'entire': 781,\n",
       " 'info': 782,\n",
       " 'large': 783,\n",
       " 'tote': 784,\n",
       " 'handbag': 785,\n",
       " 'spot': 786,\n",
       " 'libya': 787,\n",
       " '70th': 788,\n",
       " 'holding': 789,\n",
       " 'aug': 790,\n",
       " 'mph': 791,\n",
       " 'ppl': 792,\n",
       " 'confirmed': 793,\n",
       " 'don\\x89ûªt': 794,\n",
       " 'emmerdale': 795,\n",
       " 'york': 796,\n",
       " 'quiz': 797,\n",
       " 'apollo': 798,\n",
       " 'cree': 799,\n",
       " 'islam': 800,\n",
       " 'nigerian': 801,\n",
       " 'aba': 802,\n",
       " 'site': 803,\n",
       " 'ave': 804,\n",
       " 'talk': 805,\n",
       " 'seeing': 806,\n",
       " 'behind': 807,\n",
       " '15': 808,\n",
       " 'wrong': 809,\n",
       " 'suspect': 810,\n",
       " 'twelve': 811,\n",
       " 'crazy': 812,\n",
       " 'kills': 813,\n",
       " 'driver': 814,\n",
       " 'safety': 815,\n",
       " 'working': 816,\n",
       " 'japanese': 817,\n",
       " 'gop': 818,\n",
       " 'feeling': 819,\n",
       " 'driving': 820,\n",
       " 'public': 821,\n",
       " 'pretty': 822,\n",
       " 'ahead': 823,\n",
       " 'online': 824,\n",
       " 'turn': 825,\n",
       " 'follow': 826,\n",
       " 'told': 827,\n",
       " 'aint': 828,\n",
       " 'rock': 829,\n",
       " 'investigating': 830,\n",
       " 'thursday': 831,\n",
       " 'businesses': 832,\n",
       " 'parents': 833,\n",
       " 'become': 834,\n",
       " 'china': 835,\n",
       " 'delivers': 836,\n",
       " 'isis': 837,\n",
       " 'passengers': 838,\n",
       " 'alarm': 839,\n",
       " 'sick': 840,\n",
       " '12000': 841,\n",
       " 'crematoria': 842,\n",
       " 'provoke': 843,\n",
       " 'offroad': 844,\n",
       " 'jonathan': 845,\n",
       " 'governor': 846,\n",
       " 'sky': 847,\n",
       " 'secret': 848,\n",
       " '2013': 849,\n",
       " 'double': 850,\n",
       " 'scene': 851,\n",
       " 'global': 852,\n",
       " 'gtgt': 853,\n",
       " 'thinking': 854,\n",
       " '11': 855,\n",
       " 'ready': 856,\n",
       " 'wild': 857,\n",
       " 'horse': 858,\n",
       " 'radio': 859,\n",
       " 'mod': 860,\n",
       " 'scared': 861,\n",
       " 'give': 862,\n",
       " 'department': 863,\n",
       " 'earth': 864,\n",
       " 'ca': 865,\n",
       " 'lmao': 866,\n",
       " 'okay': 867,\n",
       " 'shift': 868,\n",
       " 'looking': 869,\n",
       " 'niggas': 870,\n",
       " 'living': 871,\n",
       " 'party': 872,\n",
       " 'falling': 873,\n",
       " 'arent': 874,\n",
       " 'broke': 875,\n",
       " 'faux': 876,\n",
       " 'middle': 877,\n",
       " 'coast': 878,\n",
       " 'likely': 879,\n",
       " 'western': 880,\n",
       " 'sad': 881,\n",
       " 'instead': 882,\n",
       " 'fans': 883,\n",
       " 'sea': 884,\n",
       " 'enugu': 885,\n",
       " 'spring': 886,\n",
       " 'wonder': 887,\n",
       " 'wrought': 888,\n",
       " 'internally': 889,\n",
       " 'brooklyn': 890,\n",
       " 'travel': 891,\n",
       " 'smoke': 892,\n",
       " 'happening': 893,\n",
       " 'london': 894,\n",
       " 'metal': 895,\n",
       " 'taking': 896,\n",
       " 'alone': 897,\n",
       " 'upon': 898,\n",
       " 'involving': 899,\n",
       " 'dies': 900,\n",
       " 'turned': 901,\n",
       " '16': 902,\n",
       " 'financial': 903,\n",
       " 'tried': 904,\n",
       " 'wednesday': 905,\n",
       " 'mode': 906,\n",
       " 'serious': 907,\n",
       " 'reuters': 908,\n",
       " 'pakistan': 909,\n",
       " 'country': 910,\n",
       " 'wasnt': 911,\n",
       " 'total': 912,\n",
       " 'dad': 913,\n",
       " 'bed': 914,\n",
       " 'prepare': 915,\n",
       " 'vote': 916,\n",
       " 'linked': 917,\n",
       " 'million': 918,\n",
       " 'gave': 919,\n",
       " 'internet': 920,\n",
       " 'response': 921,\n",
       " 'louis': 922,\n",
       " 'album': 923,\n",
       " 'added': 924,\n",
       " 'occurred': 925,\n",
       " 'australia': 926,\n",
       " 'miss': 927,\n",
       " 'research': 928,\n",
       " 'cut': 929,\n",
       " 'problem': 930,\n",
       " 'future': 931,\n",
       " 'firefighters': 932,\n",
       " 'e': 933,\n",
       " 'silver': 934,\n",
       " 'cold': 935,\n",
       " 'giving': 936,\n",
       " 'walking': 937,\n",
       " 'soul': 938,\n",
       " 'metro': 939,\n",
       " 'biggest': 940,\n",
       " 'standard': 941,\n",
       " 'strike': 942,\n",
       " 'purse': 943,\n",
       " 'saying': 944,\n",
       " 'point': 945,\n",
       " 'small': 946,\n",
       " 'washington': 947,\n",
       " 'gunman': 948,\n",
       " 'ground': 949,\n",
       " 'nagasaki': 950,\n",
       " 'worse': 951,\n",
       " 'different': 952,\n",
       " 'x': 953,\n",
       " 'press': 954,\n",
       " 'planned': 955,\n",
       " 'sounds': 956,\n",
       " 'account': 957,\n",
       " 'british': 958,\n",
       " 'gas': 959,\n",
       " 'absolutely': 960,\n",
       " 'worlds': 961,\n",
       " 'guide': 962,\n",
       " 'uk': 963,\n",
       " 'flight': 964,\n",
       " 'interesting': 965,\n",
       " 'international': 966,\n",
       " 'smaug': 967,\n",
       " 'sensorsenso': 968,\n",
       " 'struggles': 969,\n",
       " 'apc': 970,\n",
       " 'specially': 971,\n",
       " 'allows': 972,\n",
       " '1980': 973,\n",
       " 'alabama': 974,\n",
       " 'cameroon': 975,\n",
       " 'orders': 976,\n",
       " 'causes': 977,\n",
       " 'season': 978,\n",
       " 'wife': 979,\n",
       " 'setting': 980,\n",
       " 'later': 981,\n",
       " 'means': 982,\n",
       " 'students': 983,\n",
       " 'blocked': 984,\n",
       " 'risk': 985,\n",
       " 'using': 986,\n",
       " 'guess': 987,\n",
       " 'wants': 988,\n",
       " 'begin': 989,\n",
       " 'members': 990,\n",
       " 'victim': 991,\n",
       " 'ship': 992,\n",
       " 'petition': 993,\n",
       " '17': 994,\n",
       " 'feat': 995,\n",
       " 'survivors': 996,\n",
       " 'syrian': 997,\n",
       " 'salt': 998,\n",
       " 'kinda': 999,\n",
       " 'played': 1000,\n",
       " ...}"
      ]
     },
     "execution_count": 15,
     "metadata": {},
     "output_type": "execute_result"
    }
   ],
   "source": [
    "tokenizer = Tokenizer(num_words=num_unique_word)\n",
    "tokenizer.fit_on_texts(X_train)\n",
    "\n",
    "word_index = tokenizer.word_index\n",
    "print('Word index dict:')\n",
    "word_index"
   ]
  },
  {
   "cell_type": "markdown",
   "metadata": {},
   "source": [
    "<a id=\"7\"></a>\n",
    "### - replacing text into series of number\n",
    "[Back to top](#0)"
   ]
  },
  {
   "cell_type": "code",
   "execution_count": 16,
   "metadata": {},
   "outputs": [
    {
     "data": {
      "text/plain": [
       "[[3739, 696, 235, 41, 1282, 3740, 14],\n",
       " [71, 3, 129, 576, 5670, 5671, 1283],\n",
       " [1448, 1186, 1882, 495, 5672, 1449, 116, 1882, 495, 976, 1187],\n",
       " [2243, 8, 3741, 1070, 116, 976, 24],\n",
       " [27, 1071, 358, 5673, 1635, 892, 1070, 5674, 91]]"
      ]
     },
     "execution_count": 16,
     "metadata": {},
     "output_type": "execute_result"
    }
   ],
   "source": [
    "X_train_sequences = tokenizer.texts_to_sequences(X_train)\n",
    "X_valid_sequences = tokenizer.texts_to_sequences(X_valid)\n",
    "test_sequences = tokenizer.texts_to_sequences(test_data)\n",
    "\n",
    "X_train_sequences[:5]"
   ]
  },
  {
   "cell_type": "code",
   "execution_count": 17,
   "metadata": {},
   "outputs": [
    {
     "data": {
      "text/plain": [
       "0         deeds reason earthquake may allah forgive us\n",
       "1                forest fire near la ronge sask canada\n",
       "2    residents asked shelter place notified officer...\n",
       "3    13000 people receive wildfires evacuation orde...\n",
       "4    got sent photo ruby alaska smoke wildfires pou...\n",
       "Name: text_cleaned, dtype: object"
      ]
     },
     "execution_count": 17,
     "metadata": {},
     "output_type": "execute_result"
    }
   ],
   "source": [
    "train.text_cleaned[:5]"
   ]
  },
  {
   "cell_type": "markdown",
   "metadata": {},
   "source": [
    "<a id=\"8\"></a>\n",
    "### - Make every sentences/ text same length\n",
    "[Back to top](#0)"
   ]
  },
  {
   "cell_type": "code",
   "execution_count": 18,
   "metadata": {},
   "outputs": [
    {
     "name": "stdout",
     "output_type": "stream",
     "text": [
      "train_padded shape: (6090, 25)\n",
      "valid_padded shape: (1523, 25)\n"
     ]
    },
    {
     "data": {
      "text/plain": [
       "array([3739,  696,  235,   41, 1282, 3740,   14,    0,    0,    0,    0,\n",
       "          0,    0,    0,    0,    0,    0,    0,    0,    0,    0,    0,\n",
       "          0,    0,    0])"
      ]
     },
     "execution_count": 18,
     "metadata": {},
     "output_type": "execute_result"
    }
   ],
   "source": [
    "max_text_len = max([len(txt) for txt in X_train_sequences])\n",
    "\n",
    "# padding and truncating for numbering position\n",
    "train_padded = pad_sequences(X_train_sequences, maxlen=max_text_len, padding='post', truncating='post')\n",
    "valid_padded = pad_sequences(X_valid_sequences, maxlen=max_text_len, padding='post', truncating='post')\n",
    "test_padded = pad_sequences(test_sequences, maxlen=max_text_len, padding='post', truncating='post')\n",
    "\n",
    "print(f'train_padded shape: {train_padded.shape}\\nvalid_padded shape: {valid_padded.shape}')\n",
    "train_padded[0]"
   ]
  },
  {
   "cell_type": "markdown",
   "metadata": {},
   "source": [
    "<a id=\"9\"></a>\n",
    "### - Reversing keys values in word index dict, for decoding later\n",
    "[Back to top](#0)"
   ]
  },
  {
   "cell_type": "code",
   "execution_count": 19,
   "metadata": {},
   "outputs": [],
   "source": [
    "reverse_word_index = dict((val, key) for key, val in word_index.items())\n",
    "\n",
    "# get in dict: with 2nd parameter, if there is no such seq, return ?\n",
    "def decode(seq):\n",
    "    return ' '.join([reverse_word_index.get(s, '?') for s in seq])"
   ]
  },
  {
   "cell_type": "markdown",
   "metadata": {},
   "source": [
    "<a id=\"10\"></a>\n",
    "# Create LSTM model\n",
    "[Back to top](#0)"
   ]
  },
  {
   "cell_type": "markdown",
   "metadata": {},
   "source": [
    "<a href=\"https://www.tensorflow.org/text/guide/word_embeddings\">Tensorflow Word Embeddings link</a>\n",
    "<p>Give an efficient, dense representation in which similar words have a similar encoding</p>"
   ]
  },
  {
   "cell_type": "code",
   "execution_count": 20,
   "metadata": {},
   "outputs": [
    {
     "name": "stdout",
     "output_type": "stream",
     "text": [
      "Model: \"sequential\"\n",
      "_________________________________________________________________\n",
      "Layer (type)                 Output Shape              Param #   \n",
      "=================================================================\n",
      "embedding (Embedding)        (None, 25, 32)            575072    \n",
      "_________________________________________________________________\n",
      "lstm (LSTM)                  (None, 64)                24832     \n",
      "_________________________________________________________________\n",
      "dense (Dense)                (None, 1)                 65        \n",
      "=================================================================\n",
      "Total params: 599,969\n",
      "Trainable params: 599,969\n",
      "Non-trainable params: 0\n",
      "_________________________________________________________________\n"
     ]
    }
   ],
   "source": [
    "model = keras.models.Sequential()\n",
    "model.add(layers.Embedding(num_unique_word, 32, input_length=max_text_len))\n",
    "# Take input as integer matrix of size (batch, input_length)\n",
    "# Largest integer (word index) in input should not be larger than num_words (vocabulary size)\n",
    "#  output shape is (batch_dimension, input_length, 32)\n",
    "\n",
    "# 64 number of output, dropout is 10%\n",
    "model.add(layers.LSTM(64, dropout=0.1))\n",
    "#  Dense with 1 output in the end with sigmoid function\n",
    "model.add(layers.Dense(1, activation='sigmoid'))\n",
    "model.summary()"
   ]
  },
  {
   "cell_type": "code",
   "execution_count": 21,
   "metadata": {},
   "outputs": [],
   "source": [
    "# from_logits=False as we already specify sigmoid function\n",
    "loss = keras.losses.BinaryCrossentropy(from_logits=False)\n",
    "optim = keras.optimizers.Adam(learning_rate=0.001)\n",
    "metrics=['accuracy']\n",
    "\n",
    "model.compile(loss=loss, optimizer=optim, metrics=metrics)"
   ]
  },
  {
   "cell_type": "code",
   "execution_count": 22,
   "metadata": {},
   "outputs": [
    {
     "name": "stdout",
     "output_type": "stream",
     "text": [
      "Epoch 1/20\n",
      "191/191 - 6s - loss: 0.5609 - accuracy: 0.7005 - val_loss: 0.5201 - val_accuracy: 0.7590\n",
      "Epoch 2/20\n",
      "191/191 - 3s - loss: 0.3034 - accuracy: 0.8836 - val_loss: 0.4726 - val_accuracy: 0.7833\n",
      "Epoch 3/20\n",
      "191/191 - 3s - loss: 0.1705 - accuracy: 0.9435 - val_loss: 0.5743 - val_accuracy: 0.7603\n",
      "Epoch 4/20\n",
      "191/191 - 3s - loss: 0.1212 - accuracy: 0.9631 - val_loss: 0.7237 - val_accuracy: 0.7610\n",
      "Epoch 5/20\n",
      "191/191 - 3s - loss: 0.0894 - accuracy: 0.9754 - val_loss: 0.7690 - val_accuracy: 0.7439\n",
      "Epoch 6/20\n",
      "191/191 - 3s - loss: 0.0793 - accuracy: 0.9754 - val_loss: 0.7726 - val_accuracy: 0.7485\n",
      "Epoch 7/20\n",
      "191/191 - 3s - loss: 0.0703 - accuracy: 0.9777 - val_loss: 0.7593 - val_accuracy: 0.7525\n",
      "Epoch 8/20\n",
      "191/191 - 3s - loss: 0.0631 - accuracy: 0.9795 - val_loss: 0.8383 - val_accuracy: 0.7354\n",
      "Epoch 9/20\n",
      "191/191 - 3s - loss: 0.0512 - accuracy: 0.9782 - val_loss: 0.8209 - val_accuracy: 0.7426\n",
      "Epoch 10/20\n",
      "191/191 - 3s - loss: 0.0460 - accuracy: 0.9803 - val_loss: 0.9415 - val_accuracy: 0.7282\n",
      "Epoch 11/20\n",
      "191/191 - 4s - loss: 0.0411 - accuracy: 0.9818 - val_loss: 1.2389 - val_accuracy: 0.7301\n",
      "Epoch 12/20\n",
      "191/191 - 4s - loss: 0.0437 - accuracy: 0.9826 - val_loss: 1.2502 - val_accuracy: 0.7321\n",
      "Epoch 13/20\n",
      "191/191 - 4s - loss: 0.0390 - accuracy: 0.9834 - val_loss: 1.1336 - val_accuracy: 0.7360\n",
      "Epoch 14/20\n",
      "191/191 - 3s - loss: 0.0379 - accuracy: 0.9826 - val_loss: 1.2667 - val_accuracy: 0.7242\n",
      "Epoch 15/20\n",
      "191/191 - 3s - loss: 0.0339 - accuracy: 0.9837 - val_loss: 1.4330 - val_accuracy: 0.7157\n",
      "Epoch 16/20\n",
      "191/191 - 3s - loss: 0.0297 - accuracy: 0.9841 - val_loss: 1.8346 - val_accuracy: 0.7223\n",
      "Epoch 17/20\n",
      "191/191 - 3s - loss: 0.0362 - accuracy: 0.9829 - val_loss: 1.2774 - val_accuracy: 0.7269\n",
      "Epoch 18/20\n",
      "191/191 - 3s - loss: 0.0382 - accuracy: 0.9813 - val_loss: 1.2720 - val_accuracy: 0.7459\n",
      "Epoch 19/20\n",
      "191/191 - 3s - loss: 0.0351 - accuracy: 0.9814 - val_loss: 1.4991 - val_accuracy: 0.7347\n",
      "Epoch 20/20\n",
      "191/191 - 3s - loss: 0.0297 - accuracy: 0.9841 - val_loss: 1.5887 - val_accuracy: 0.7387\n"
     ]
    },
    {
     "data": {
      "text/plain": [
       "<keras.callbacks.History at 0x1eb73659490>"
      ]
     },
     "execution_count": 22,
     "metadata": {},
     "output_type": "execute_result"
    }
   ],
   "source": [
    "model.fit(train_padded, y_train, epochs=20, validation_data=(valid_padded, y_valid), verbose=2)"
   ]
  },
  {
   "cell_type": "markdown",
   "metadata": {},
   "source": [
    "## Confusion matrix"
   ]
  },
  {
   "cell_type": "code",
   "execution_count": 69,
   "metadata": {},
   "outputs": [
    {
     "name": "stdout",
     "output_type": "stream",
     "text": [
      "F1 score: 0.67\n",
      "Accuracy score: 0.74\n"
     ]
    },
    {
     "data": {
      "image/png": "[encoded data removed]",
      "text/plain": [
       "<Figure size 432x288 with 2 Axes>"
      ]
     },
     "metadata": {
      "needs_background": "light"
     },
     "output_type": "display_data"
    }
   ],
   "source": [
    "val_pred = model.predict(valid_padded)\n",
    "val_out = [1 if p > 0.5 else 0 for p in val_pred]\n",
    "cm = confusion_matrix(y_valid, val_out)\n",
    "sns.heatmap(cm.T, annot=True, fmt='d', xticklabels=['Yes', 'No'], yticklabels=['Yes', 'No'])\n",
    "plt.xlabel('true label')\n",
    "plt.ylabel('predicted label')\n",
    "\n",
    "print(f'F1 score: {f1_score(y_valid, val_out):.2f}')\n",
    "print(f'Accuracy score: {accuracy_score(y_valid, val_out):.2f}')"
   ]
  },
  {
   "cell_type": "code",
   "execution_count": 24,
   "metadata": {},
   "outputs": [],
   "source": [
    "prediction = model.predict(test_padded)\n",
    "# round off to 0 or 1\n",
    "result =[1 if p > 0.5 else 0 for p in prediction]"
   ]
  },
  {
   "cell_type": "code",
   "execution_count": 25,
   "metadata": {},
   "outputs": [
    {
     "name": "stdout",
     "output_type": "stream",
     "text": [
      "beware world ablaze sierra leone amp guap . target: 0\n",
      "burning man ablaze turban diva via etsy . target: 0\n",
      "diss song people take 1 thing run smh eye opener though 2 set game ablaze cyhitheprynce . target: 0\n",
      "rape victim dies sets ablaze 16yearold girl died burn injuries set ablazeû . target: 1\n",
      "setting ablaze . target: 0\n",
      "ctvtoronto bins front field house wer set ablaze day flames went rite hydro pole wonder . target: 0\n",
      "nowplaying alfons ablaze 2015 puls radio pulsradio . target: 0\n",
      "burning rahm lets hope city hall builds giant wooden mayoral effigy 100 feet tall amp sets ablaze johnkass . target: 0\n",
      "philippaeilhart dhublath hurt eyes ablaze insulted anger . target: 0\n",
      "accident cleared paturnpike patp eb pa18 cranberry slow back traffic . target: 1\n"
     ]
    }
   ],
   "source": [
    "for txt, target in zip(test.text_cleaned[20:30], result[20:30]):\n",
    "    print(txt, f'. target: {target}')"
   ]
  },
  {
   "cell_type": "markdown",
   "metadata": {},
   "source": [
    "## Submission"
   ]
  },
  {
   "cell_type": "code",
   "execution_count": 26,
   "metadata": {},
   "outputs": [],
   "source": [
    "submission['target'] = result\n",
    "submission.to_csv(os.path.join(path, 'first_submission.csv'), index=False)"
   ]
  },
  {
   "cell_type": "markdown",
   "metadata": {},
   "source": [
    "<a id=\"11\"></a>\n",
    "# Naive Bayes Classifiers\n",
    "[Back to top](#0)"
   ]
  },
  {
   "cell_type": "code",
   "execution_count": 27,
   "metadata": {},
   "outputs": [],
   "source": [
    "from sklearn.feature_extraction.text import TfidfVectorizer\n",
    "from sklearn.naive_bayes import MultinomialNB\n",
    "from sklearn.pipeline import make_pipeline\n",
    "from sklearn.model_selection import train_test_split"
   ]
  },
  {
   "cell_type": "code",
   "execution_count": 34,
   "metadata": {},
   "outputs": [],
   "source": [
    "Xtrain, Xvalid, ytrain, yvalid = train_test_split(train.text, train.target, test_size=0.2, random_state=42)"
   ]
  },
  {
   "cell_type": "code",
   "execution_count": 35,
   "metadata": {},
   "outputs": [
    {
     "data": {
      "text/plain": [
       "Pipeline(steps=[('tfidfvectorizer', TfidfVectorizer()),\n",
       "                ('multinomialnb', MultinomialNB())])"
      ]
     },
     "execution_count": 35,
     "metadata": {},
     "output_type": "execute_result"
    }
   ],
   "source": [
    "nb_model = make_pipeline(TfidfVectorizer(), MultinomialNB())\n",
    "nb_model.fit(Xtrain, ytrain)"
   ]
  },
  {
   "cell_type": "code",
   "execution_count": 78,
   "metadata": {},
   "outputs": [
    {
     "name": "stdout",
     "output_type": "stream",
     "text": [
      "Naive Bayes F1 score: 0.73\n",
      "Naive Bayes Accuracy score: 0.80\n"
     ]
    },
    {
     "data": {
      "image/png": "[encoded data removed]",
      "text/plain": [
       "<Figure size 432x288 with 2 Axes>"
      ]
     },
     "metadata": {
      "needs_background": "light"
     },
     "output_type": "display_data"
    }
   ],
   "source": [
    "val_nb_pred = nb_model.predict(Xvalid)\n",
    "nb_cm = confusion_matrix(yvalid, val_nb_pred)\n",
    "sns.heatmap(nb_cm.T, square=True, annot=True, fmt='d', xticklabels=['Yes', 'No'], yticklabels=['Yes', 'No'])\n",
    "plt.xlabel('true label')\n",
    "plt.ylabel('predicted label')\n",
    "\n",
    "# print('Naive Bayes Confusion Matrix:\\n', confusion_matrix(yvalid, val_nb_pred))\n",
    "print(f'Naive Bayes F1 score: {f1_score(yvalid, val_nb_pred):.2f}')\n",
    "print(f'Naive Bayes Accuracy score: {accuracy_score(yvalid, val_nb_pred):.2f}')"
   ]
  },
  {
   "cell_type": "code",
   "execution_count": 70,
   "metadata": {},
   "outputs": [],
   "source": [
    "# test data\n",
    "nb_result = nb_model.predict(test.text)"
   ]
  },
  {
   "cell_type": "code",
   "execution_count": 57,
   "metadata": {},
   "outputs": [
    {
     "data": {
      "text/plain": [
       "array([['Just happened a terrible car crash', 1],\n",
       "       ['Heard about #earthquake is different cities, stay safe everyone.',\n",
       "        0],\n",
       "       ['there is a forest fire at spot pond, geese are fleeing across the street, I cannot save them all',\n",
       "        1],\n",
       "       ['Apocalypse lighting. #Spokane #wildfires', 1],\n",
       "       ['Typhoon Soudelor kills 28 in China and Taiwan', 1],\n",
       "       [\"We're shaking...It's an earthquake\", 1],\n",
       "       [\"They'd probably still show more life than Arsenal did yesterday, eh? EH?\",\n",
       "        0],\n",
       "       ['Hey! How are you?', 0],\n",
       "       ['What a nice hat?', 0],\n",
       "       ['Fuck off!', 0],\n",
       "       [\"No I don't like cold!\", 0],\n",
       "       [\"NOOOOOOOOO! Don't do that!\", 0],\n",
       "       [\"No don't tell me that!\", 0],\n",
       "       ['What if?!', 0],\n",
       "       ['Awesome!', 0]], dtype=object)"
      ]
     },
     "execution_count": 57,
     "metadata": {},
     "output_type": "execute_result"
    }
   ],
   "source": [
    "test['nb_target'] = nb_result\n",
    "test[['text', 'nb_target']][:15].to_numpy()"
   ]
  },
  {
   "cell_type": "code",
   "execution_count": 33,
   "metadata": {},
   "outputs": [],
   "source": [
    "submission['target'] = nb_result\n",
    "submission.to_csv(os.path.join(path, 'NB_submission_3Oct.csv'), index=False)"
   ]
  },
  {
   "cell_type": "markdown",
   "metadata": {},
   "source": [
    "## To predict is my tweet is disaster or not"
   ]
  },
  {
   "cell_type": "code",
   "execution_count": 94,
   "metadata": {},
   "outputs": [],
   "source": [
    "def text_prediction(txt, model=nb_model):\n",
    "    pred = model.predict([txt])\n",
    "    return ['Not disaster post' if txt==0 else 'Disaster post' for txt in pred][0]"
   ]
  },
  {
   "cell_type": "code",
   "execution_count": 114,
   "metadata": {},
   "outputs": [
    {
     "data": {
      "text/plain": [
       "'Not disaster post'"
      ]
     },
     "execution_count": 114,
     "metadata": {},
     "output_type": "execute_result"
    }
   ],
   "source": [
    "text_prediction('I am so sad')"
   ]
  },
  {
   "cell_type": "code",
   "execution_count": 131,
   "metadata": {},
   "outputs": [
    {
     "data": {
      "text/plain": [
       "'Disaster post'"
      ]
     },
     "execution_count": 131,
     "metadata": {},
     "output_type": "execute_result"
    }
   ],
   "source": [
    "text_prediction('Earthquake happen in KL!!! #scare #panic')"
   ]
  },
  {
   "cell_type": "code",
   "execution_count": 106,
   "metadata": {},
   "outputs": [
    {
     "data": {
      "text/plain": [
       "'Disaster post'"
      ]
     },
     "execution_count": 106,
     "metadata": {},
     "output_type": "execute_result"
    }
   ],
   "source": [
    "text_prediction('The War happen in ...')"
   ]
  },
  {
   "cell_type": "code",
   "execution_count": 112,
   "metadata": {},
   "outputs": [
    {
     "data": {
      "text/plain": [
       "'Disaster post'"
      ]
     },
     "execution_count": 112,
     "metadata": {},
     "output_type": "execute_result"
    }
   ],
   "source": [
    "text_prediction('It kills lots of people!')"
   ]
  },
  {
   "cell_type": "code",
   "execution_count": 113,
   "metadata": {},
   "outputs": [
    {
     "data": {
      "text/plain": [
       "'Not disaster post'"
      ]
     },
     "execution_count": 113,
     "metadata": {},
     "output_type": "execute_result"
    }
   ],
   "source": [
    "text_prediction('I wanna break up with you!')"
   ]
  },
  {
   "cell_type": "code",
   "execution_count": 115,
   "metadata": {},
   "outputs": [
    {
     "data": {
      "text/plain": [
       "'Not disaster post'"
      ]
     },
     "execution_count": 115,
     "metadata": {},
     "output_type": "execute_result"
    }
   ],
   "source": [
    "text_prediction('Year end sale! Yay!')"
   ]
  },
  {
   "cell_type": "code",
   "execution_count": 124,
   "metadata": {},
   "outputs": [
    {
     "data": {
      "text/plain": [
       "'Disaster post'"
      ]
     },
     "execution_count": 124,
     "metadata": {},
     "output_type": "execute_result"
    }
   ],
   "source": [
    "text_prediction('Whole city was destroyed by #sandstorm!')"
   ]
  }
 ],
 "metadata": {
  "kernelspec": {
   "display_name": "Python 3",
   "language": "python",
   "name": "python3"
  },
  "language_info": {
   "codemirror_mode": {
    "name": "ipython",
    "version": 3
   },
   "file_extension": ".py",
   "mimetype": "text/x-python",
   "name": "python",
   "nbconvert_exporter": "python",
   "pygments_lexer": "ipython3",
   "version": "3.8.5"
  }
 },
 "nbformat": 4,
 "nbformat_minor": 4
}
